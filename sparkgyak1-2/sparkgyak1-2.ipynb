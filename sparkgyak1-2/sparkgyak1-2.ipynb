{
  "cells": [
    {
      "cell_type": "markdown",
      "metadata": {
        "id": "view-in-github",
        "colab_type": "text"
      },
      "source": [
        "<a href=\"https://colab.research.google.com/github/mekkUr13/BigData/blob/main/sparkgyak1-2/sparkgyak1-2.ipynb\" target=\"_parent\"><img src=\"https://colab.research.google.com/assets/colab-badge.svg\" alt=\"Open In Colab\"/></a>"
      ]
    },
    {
      "cell_type": "code",
      "source": [
        "!pip install pyspark"
      ],
      "metadata": {
        "colab": {
          "base_uri": "https://localhost:8080/"
        },
        "id": "Hzl7-8hpkY3O",
        "outputId": "d12da14b-ffc8-4cd0-82ef-e79d2af82087"
      },
      "id": "Hzl7-8hpkY3O",
      "execution_count": 1,
      "outputs": [
        {
          "output_type": "stream",
          "name": "stdout",
          "text": [
            "Requirement already satisfied: pyspark in /usr/local/lib/python3.10/dist-packages (3.5.3)\n",
            "Requirement already satisfied: py4j==0.10.9.7 in /usr/local/lib/python3.10/dist-packages (from pyspark) (0.10.9.7)\n"
          ]
        }
      ]
    },
    {
      "cell_type": "code",
      "source": [
        "import os\n",
        "\n",
        "os.getcwd()"
      ],
      "metadata": {
        "colab": {
          "base_uri": "https://localhost:8080/",
          "height": 36
        },
        "id": "UzdR_g4sf6DP",
        "outputId": "9c5b13f4-f5b7-4dfa-e527-68e1f4320714"
      },
      "id": "UzdR_g4sf6DP",
      "execution_count": 2,
      "outputs": [
        {
          "output_type": "execute_result",
          "data": {
            "text/plain": [
              "'/content'"
            ],
            "application/vnd.google.colaboratory.intrinsic+json": {
              "type": "string"
            }
          },
          "metadata": {},
          "execution_count": 2
        }
      ]
    },
    {
      "cell_type": "code",
      "execution_count": 4,
      "id": "9a7d4a05-5e59-44dd-a6d3-0cac83b122d7",
      "metadata": {
        "jupyter": {
          "is_executing": true
        },
        "id": "9a7d4a05-5e59-44dd-a6d3-0cac83b122d7"
      },
      "outputs": [],
      "source": [
        "from pyspark import SparkConf, SparkContext\n",
        "\n",
        "conf = SparkConf()\n",
        "sc = SparkContext(conf=conf)\n"
      ]
    },
    {
      "cell_type": "code",
      "execution_count": 5,
      "id": "ac782b5a-1abc-4b9c-9501-d893fd22c213",
      "metadata": {
        "id": "ac782b5a-1abc-4b9c-9501-d893fd22c213",
        "colab": {
          "base_uri": "https://localhost:8080/"
        },
        "outputId": "a4ff0605-4960-4939-fdce-6be790b19d33"
      },
      "outputs": [
        {
          "output_type": "stream",
          "name": "stdout",
          "text": [
            "Működik a Spark!\n"
          ]
        }
      ],
      "source": [
        "x = \"MWűGkyösdwinko Qau fSJpDaTrykv!w\"\n",
        "\n",
        "rdd = sc.parallelize([x[i:i+2] for i in range(0, len(x), 2)])\n",
        "res = rdd.map(lambda x: x[0]).collect()\n",
        "\n",
        "print(\"\".join(res))"
      ]
    },
    {
      "cell_type": "code",
      "execution_count": 6,
      "id": "43e2c27e-2cbe-4d3e-9dd2-611b5912fecc",
      "metadata": {
        "id": "43e2c27e-2cbe-4d3e-9dd2-611b5912fecc",
        "colab": {
          "base_uri": "https://localhost:8080/"
        },
        "outputId": "c08e045f-d82f-449f-f724-4c5d08394438"
      },
      "outputs": [
        {
          "output_type": "execute_result",
          "data": {
            "text/plain": [
              "ParallelCollectionRDD[2] at readRDDFromFile at PythonRDD.scala:289"
            ]
          },
          "metadata": {},
          "execution_count": 6
        }
      ],
      "source": [
        "# RDD = resilient distributed dataset\n",
        "# Az RDD objektumok immutábilis elosztott kollekciója\n",
        "# RDD létrehozható bármilyen kollekcióból az sc.parallelize() függvénnyel.\n",
        "# Az sc.parallelize() második argumentumában megadhatjuk hány partíción legyenek elosztva az adatok\n",
        "\n",
        "tomb = ['a', 'b', 'c', 'd', 'e', 'f']\n",
        "\n",
        "rdd = sc.parallelize(tomb, 5)\n",
        "rdd"
      ]
    },
    {
      "cell_type": "code",
      "source": [
        "# Az alábbi függvény visszaadja az RDD partícióinak a számát.\n",
        "\n",
        "rdd.getNumPartitions()"
      ],
      "metadata": {
        "id": "Va2eOl51k5AR",
        "colab": {
          "base_uri": "https://localhost:8080/"
        },
        "outputId": "0d1a704c-018e-4f0b-e5ca-2f8e24f611ab"
      },
      "id": "Va2eOl51k5AR",
      "execution_count": 7,
      "outputs": [
        {
          "output_type": "execute_result",
          "data": {
            "text/plain": [
              "5"
            ]
          },
          "metadata": {},
          "execution_count": 7
        }
      ]
    },
    {
      "cell_type": "code",
      "source": [
        "# Egy RDD újrapraticionálható, azonban ez a klaszter gépei közötti kommunikációt igényel\n",
        "\n",
        "rdd2 = rdd.repartition(3)\n",
        "rdd2.getNumPartitions()"
      ],
      "metadata": {
        "id": "lsBnoRxPk7sZ",
        "colab": {
          "base_uri": "https://localhost:8080/"
        },
        "outputId": "be17cfc3-d00f-4768-ef30-61e5507f40b7"
      },
      "id": "lsBnoRxPk7sZ",
      "execution_count": 8,
      "outputs": [
        {
          "output_type": "execute_result",
          "data": {
            "text/plain": [
              "3"
            ]
          },
          "metadata": {},
          "execution_count": 8
        }
      ]
    },
    {
      "cell_type": "code",
      "source": [
        "# Az RDD-ken alkalmazhatunk transzformációkat és akciókat\n",
        "# A transzformáció RDD-ből új RDD-t hoz létre\n",
        "# Az akciókkat RDD-re alkalmazzuk és egyszerű értékkel térnek vissza\n",
        "\n",
        "# Az alábbi kód létrehoz egy RDD-t, amely 1000 számot tartalmaz\n",
        "# A filter() transzformáció szűr a hárommal osztható számokra\n",
        "# A count() akicó megszámolja az RDD-ben található értékeket\n",
        "\n",
        "szamok = sc.parallelize(range(1000)).filter(lambda x: x % 3 == 0)\n",
        "szamok.count()"
      ],
      "metadata": {
        "id": "_wsQd5sok-Fr",
        "colab": {
          "base_uri": "https://localhost:8080/"
        },
        "outputId": "88290240-a875-407f-e40f-0a990917d131"
      },
      "id": "_wsQd5sok-Fr",
      "execution_count": 9,
      "outputs": [
        {
          "output_type": "execute_result",
          "data": {
            "text/plain": [
              "334"
            ]
          },
          "metadata": {},
          "execution_count": 9
        }
      ]
    },
    {
      "cell_type": "code",
      "source": [
        "# Transzformációk: filter, map, flatMap, sort, sample, union, intersection, distinct\n",
        "# Akciók: count, take, collect, max, min, reduce, foreach\n",
        "# A nevük elárulja mit csinálnak, de érdemes kipróbálni őket!\n",
        "\n",
        "# Példa: számok összeadása\n",
        "# A reduce() akció aggregálja az elemeket egy függvénnyel, amely két argumentumot kap és egy értékkel tér vissza\n",
        "# Kommutatív és asszociatív függvénynek kell lennie, hogy párhuzamosan végrehajtható legyen\n",
        "\n",
        "szamok = sc.parallelize(range(1000))\\\n",
        ".filter(lambda x: x % 3 == 0)\\\n",
        ".reduce(lambda a, b: a + b)\n",
        "\n",
        "print(szamok)"
      ],
      "metadata": {
        "id": "SzzqQg3ZVdY3",
        "colab": {
          "base_uri": "https://localhost:8080/"
        },
        "outputId": "f8719337-445a-4a5c-8ac9-afb3af79911d"
      },
      "id": "SzzqQg3ZVdY3",
      "execution_count": 10,
      "outputs": [
        {
          "output_type": "stream",
          "name": "stdout",
          "text": [
            "166833\n"
          ]
        }
      ]
    },
    {
      "cell_type": "code",
      "source": [
        "# Lemezen lévő fájlból is készíthetünk RDD-t\n",
        "# Az alábbi kód kírja a szöveg első két sorát:\n",
        "\n",
        "lines = sc.textFile('alkotmany.txt').take(2)\n",
        "\n",
        "print(lines)"
      ],
      "metadata": {
        "id": "ZQ2X_D-bXCss",
        "colab": {
          "base_uri": "https://localhost:8080/"
        },
        "outputId": "5fae5115-6ba6-4d0f-e648-aa238e8f6827"
      },
      "id": "ZQ2X_D-bXCss",
      "execution_count": 15,
      "outputs": [
        {
          "output_type": "stream",
          "name": "stdout",
          "text": [
            "['Mi, a magyar nemzet tagjai, az új évezred kezdetén, felelősséggel minden magyarért, kinyilvánítjuk az alábbiakat:', 'Büszkék vagyunk arra, hogy Szent István királyunk ezer évvel ezelőtt szilárd alapokra helyezte a magyar államot, és hazánkat a keresztény Európa részévé tette.']\n"
          ]
        }
      ]
    },
    {
      "cell_type": "code",
      "source": [
        "# Feladat: Grep külön függvénnyel\n",
        "\n",
        "def filter_row(line):\n",
        "    grepWord = 'magyar'\n",
        "    if grepWord in line:\n",
        "        return True\n",
        "    else:\n",
        "        return False\n",
        "\n",
        "\n",
        "lines = sc.textFile('alkotmany.txt')\\\n",
        ".filter(filter_row)\n",
        "\n",
        "lines.take(2)"
      ],
      "metadata": {
        "id": "P9wgjo53XFWO",
        "colab": {
          "base_uri": "https://localhost:8080/"
        },
        "outputId": "d8798efc-514b-4fef-d004-4cdd78d003bc"
      },
      "id": "P9wgjo53XFWO",
      "execution_count": 16,
      "outputs": [
        {
          "output_type": "execute_result",
          "data": {
            "text/plain": [
              "['Mi, a magyar nemzet tagjai, az új évezred kezdetén, felelősséggel minden magyarért, kinyilvánítjuk az alábbiakat:',\n",
              " 'Büszkék vagyunk arra, hogy Szent István királyunk ezer évvel ezelőtt szilárd alapokra helyezte a magyar államot, és hazánkat a keresztény Európa részévé tette.']"
            ]
          },
          "metadata": {},
          "execution_count": 16
        }
      ]
    },
    {
      "cell_type": "code",
      "source": [
        "# Feladat: Grep\n",
        "\n",
        "grepWord = 'magyar'\n",
        "\n",
        "lines = sc.textFile('alkotmany.txt')\\\n",
        ".filter(lambda line: grepWord in line)\n",
        "\n",
        "lines.take(2)"
      ],
      "metadata": {
        "id": "eB1yEyPwYVR0",
        "colab": {
          "base_uri": "https://localhost:8080/"
        },
        "outputId": "7a3a8768-ff1b-4add-dbc7-184b5487ffac"
      },
      "id": "eB1yEyPwYVR0",
      "execution_count": 17,
      "outputs": [
        {
          "output_type": "execute_result",
          "data": {
            "text/plain": [
              "['Mi, a magyar nemzet tagjai, az új évezred kezdetén, felelősséggel minden magyarért, kinyilvánítjuk az alábbiakat:',\n",
              " 'Büszkék vagyunk arra, hogy Szent István királyunk ezer évvel ezelőtt szilárd alapokra helyezte a magyar államot, és hazánkat a keresztény Európa részévé tette.']"
            ]
          },
          "metadata": {},
          "execution_count": 17
        }
      ]
    },
    {
      "cell_type": "code",
      "source": [
        "lines = sc.textFile('alkotmany.txt')\\\n",
        ".map(lambda l: l.split(\" \"))\n",
        "\n",
        "lines.take(2)"
      ],
      "metadata": {
        "id": "ZHos6AsbYY2C",
        "colab": {
          "base_uri": "https://localhost:8080/"
        },
        "outputId": "402e0fea-3733-4224-c9d3-120ca0031727"
      },
      "id": "ZHos6AsbYY2C",
      "execution_count": 18,
      "outputs": [
        {
          "output_type": "execute_result",
          "data": {
            "text/plain": [
              "[['Mi,',\n",
              "  'a',\n",
              "  'magyar',\n",
              "  'nemzet',\n",
              "  'tagjai,',\n",
              "  'az',\n",
              "  'új',\n",
              "  'évezred',\n",
              "  'kezdetén,',\n",
              "  'felelősséggel',\n",
              "  'minden',\n",
              "  'magyarért,',\n",
              "  'kinyilvánítjuk',\n",
              "  'az',\n",
              "  'alábbiakat:'],\n",
              " ['Büszkék',\n",
              "  'vagyunk',\n",
              "  'arra,',\n",
              "  'hogy',\n",
              "  'Szent',\n",
              "  'István',\n",
              "  'királyunk',\n",
              "  'ezer',\n",
              "  'évvel',\n",
              "  'ezelőtt',\n",
              "  'szilárd',\n",
              "  'alapokra',\n",
              "  'helyezte',\n",
              "  'a',\n",
              "  'magyar',\n",
              "  'államot,',\n",
              "  'és',\n",
              "  'hazánkat',\n",
              "  'a',\n",
              "  'keresztény',\n",
              "  'Európa',\n",
              "  'részévé',\n",
              "  'tette.']]"
            ]
          },
          "metadata": {},
          "execution_count": 18
        }
      ]
    },
    {
      "cell_type": "code",
      "source": [
        "lines = sc.textFile('alkotmany.txt')\\\n",
        ".flatMap(lambda l: l.split(\" \"))\\\n",
        ".sortBy(lambda word: word)\n",
        "\n",
        "lines.take(10)"
      ],
      "metadata": {
        "id": "jpq7-VA1YdWg",
        "colab": {
          "base_uri": "https://localhost:8080/"
        },
        "outputId": "af5b0a95-9e07-4bf5-a689-08abe7683622"
      },
      "id": "jpq7-VA1YdWg",
      "execution_count": 19,
      "outputs": [
        {
          "output_type": "execute_result",
          "data": {
            "text/plain": [
              "['1944.',\n",
              " '1949.',\n",
              " '1956-os',\n",
              " '1990.',\n",
              " 'Alaptörvényünk',\n",
              " 'Becsüljük',\n",
              " 'Bízunk',\n",
              " 'Büszkék',\n",
              " 'Büszkék',\n",
              " 'Büszkék']"
            ]
          },
          "metadata": {},
          "execution_count": 19
        }
      ]
    },
    {
      "cell_type": "code",
      "source": [
        "# Kulcs-érték párok készítése\n",
        "# Műveletek kulcs-érték párokon: reduceByKey, groupByKey, countByKey\n",
        "\n",
        "lines = sc.textFile('alkotmany.txt')\\\n",
        ".flatMap(lambda l: l.split(\" \"))\\\n",
        ".map(lambda w: (w.lower()[0], w.lower()))\n",
        "\n",
        "lines.take(10)"
      ],
      "metadata": {
        "id": "EGcBYu9XYoN6",
        "colab": {
          "base_uri": "https://localhost:8080/"
        },
        "outputId": "c55837d0-ebc6-473b-91fa-6fc3dfae682a"
      },
      "id": "EGcBYu9XYoN6",
      "execution_count": 20,
      "outputs": [
        {
          "output_type": "execute_result",
          "data": {
            "text/plain": [
              "[('m', 'mi,'),\n",
              " ('a', 'a'),\n",
              " ('m', 'magyar'),\n",
              " ('n', 'nemzet'),\n",
              " ('t', 'tagjai,'),\n",
              " ('a', 'az'),\n",
              " ('ú', 'új'),\n",
              " ('é', 'évezred'),\n",
              " ('k', 'kezdetén,'),\n",
              " ('f', 'felelősséggel')]"
            ]
          },
          "metadata": {},
          "execution_count": 20
        }
      ]
    },
    {
      "cell_type": "code",
      "source": [
        "# Feladat: WordCount\n",
        "# Kulcs alapján aggregáló függvények: reduceByKey, aggregateByKey, groupByKey, sortByKey\n",
        "\n",
        "lines = sc.textFile('alkotmany.txt')\\\n",
        ".flatMap(lambda l: l.split(\" \"))\\\n",
        ".map(lambda l: l.replace(':',\"\").replace(\",\",\"\").replace(\".\", \"\").replace(\"!\",\"\"))\\\n",
        ".map(lambda w: (w.lower(), 1))\\\n",
        ".reduceByKey(lambda a, b: a + b)\\\n",
        ".sortBy(lambda x: x[1], False)\n",
        "\n",
        "lines.take(5)"
      ],
      "metadata": {
        "id": "fTkA2mX0YunZ",
        "colab": {
          "base_uri": "https://localhost:8080/"
        },
        "outputId": "adec41a2-52f2-4834-bd27-b9d28aaa2ef9"
      },
      "id": "fTkA2mX0YunZ",
      "execution_count": 21,
      "outputs": [
        {
          "output_type": "execute_result",
          "data": {
            "text/plain": [
              "[('a', 41), ('és', 24), ('az', 19), ('hogy', 17), ('valljuk', 9)]"
            ]
          },
          "metadata": {},
          "execution_count": 21
        }
      ]
    },
    {
      "cell_type": "code",
      "source": [
        "# Feladat: WordCount más megoldással\n",
        "\n",
        "lines = sc.textFile('alkotmany.txt')\\\n",
        ".flatMap(lambda l: l.split(\" \"))\\\n",
        ".map(lambda l: l.replace(':',\"\").replace(\",\",\"\").replace(\".\", \"\").replace(\"!\",\"\"))\\\n",
        ".map(lambda w: (w.lower(), 1))\\\n",
        ".groupByKey()\\\n",
        ".mapValues(sum)\\\n",
        ".sortBy(lambda t: t[1], False)\n",
        "\n",
        "lines.take(5)"
      ],
      "metadata": {
        "id": "g5pa3KEfZF1x",
        "colab": {
          "base_uri": "https://localhost:8080/"
        },
        "outputId": "3ed9f605-b418-418c-928b-925fce50fb4c"
      },
      "id": "g5pa3KEfZF1x",
      "execution_count": 22,
      "outputs": [
        {
          "output_type": "execute_result",
          "data": {
            "text/plain": [
              "[('a', 41), ('és', 24), ('az', 19), ('hogy', 17), ('valljuk', 9)]"
            ]
          },
          "metadata": {},
          "execution_count": 22
        }
      ]
    },
    {
      "cell_type": "markdown",
      "source": [
        "Gyakorló Feladatok"
      ],
      "metadata": {
        "id": "ab6MKwQ_atvr"
      },
      "id": "ab6MKwQ_atvr"
    },
    {
      "cell_type": "code",
      "source": [
        "# 1. feladat: Milyen hosszú a leghosszabb szó?\n",
        "\n",
        "lines = sc.textFile('alkotmany.txt')\\\n",
        ".flatMap(lambda l: l.split(\" \"))\\\n",
        ".map(lambda l: l.replace(':',\"\").replace(\",\",\"\").replace(\".\", \"\").replace(\"!\",\"\"))\\\n",
        ".map(lambda w: (w.lower(), len(w)))\\\n",
        ".sortBy(lambda t: t[1], False)\n",
        "\n",
        "lines.take(1)[0][1]\n",
        "\n",
        "# Egyszerűbben\n",
        "lines = sc.textFile('alkotmany.txt')\\\n",
        ".flatMap(lambda l: l.split(\" \"))\\\n",
        ".map(lambda l: l.replace(':',\"\").replace(\",\",\"\").replace(\".\", \"\").replace(\"!\",\"\"))\\\n",
        ".map(lambda w: len(w))\\\n",
        ".sortBy(lambda t: t, False)\n",
        "\n",
        "lines.take(1)[0]\n",
        "\n",
        "#Pancser vagyok, ennyire egyszerű\n",
        "lines = sc.textFile(\"alkotmany.txt\")\\\n",
        ".flatMap(lambda l : l.split(\" \"))\\\n",
        ".map(lambda w : len(w))\n",
        "\n",
        "lines.max()"
      ],
      "metadata": {
        "id": "ChMErIJ-ZLDa",
        "colab": {
          "base_uri": "https://localhost:8080/"
        },
        "outputId": "875cb950-578c-4485-b114-e85c4a47d049"
      },
      "id": "ChMErIJ-ZLDa",
      "execution_count": 23,
      "outputs": [
        {
          "output_type": "execute_result",
          "data": {
            "text/plain": [
              "18"
            ]
          },
          "metadata": {},
          "execution_count": 23
        }
      ]
    },
    {
      "cell_type": "code",
      "source": [
        "# 2. feladat: Adjuk meg a szavak átlagos hosszát!\n",
        "\n",
        "avg = sc.textFile('alkotmany.txt')\\\n",
        ".flatMap(lambda l: l.split(\" \"))\\\n",
        ".map(lambda l: l.replace(':',\"\").replace(\",\",\"\").replace(\".\", \"\").replace(\"!\",\"\"))\\\n",
        ".map(lambda w: len(w))\\\n",
        ".reduce(lambda a, b: (a+b)/2)\n",
        "\n",
        "print(avg)\n",
        "\n",
        "# Megoldás\n",
        "\n",
        "lines = sc.textFile(\"alkotmany.txt\")\\\n",
        ".flatMap(lambda l : l.split(\" \"))\\\n",
        ".map(lambda l: l.replace(':',\"\").replace(\",\",\"\").replace(\".\", \"\").replace(\"!\",\"\"))\\\n",
        ".map(lambda w: (len(w), 1) )\\\n",
        ".reduce(lambda a, b: (a[0]+b[0], a[1]+b[1]) )\n",
        "\n",
        "print(lines[0]/lines[1])"
      ],
      "metadata": {
        "id": "AMcU2OKAbDya",
        "colab": {
          "base_uri": "https://localhost:8080/"
        },
        "outputId": "b4d4c310-1436-43ba-f2a1-8759860e0295"
      },
      "id": "AMcU2OKAbDya",
      "execution_count": 34,
      "outputs": [
        {
          "output_type": "stream",
          "name": "stdout",
          "text": [
            "9.616566583863989\n",
            "6.782881002087683\n"
          ]
        }
      ]
    },
    {
      "cell_type": "code",
      "source": [
        "# 3. feladat: Melyik a leghosszabb szó és milyen hosszú?\n",
        "\n",
        "lines = sc.textFile('alkotmany.txt')\\\n",
        ".flatMap(lambda l: l.split(\" \"))\\\n",
        ".map(lambda l: l.replace(':',\"\").replace(\",\",\"\").replace(\".\", \"\").replace(\"!\",\"\"))\\\n",
        ".map(lambda w: (w.lower(), len(w)))\\\n",
        ".sortBy(lambda t: t[1], False)\n",
        "\n",
        "lines.take(1)\n",
        "\n",
        "# Megoldás\n",
        "\n",
        "maxl = sc.textFile(\"alkotmany.txt\")\\\n",
        ".flatMap(lambda l : l.split(\" \"))\\\n",
        ".map(lambda l: l.replace(':',\"\").replace(\",\",\"\").replace(\".\", \"\").replace(\"!\",\"\"))\\\n",
        ".map(lambda w : (w,len(w)))\\\n",
        ".reduce(lambda a, b: a if a[1] > b[1] else b)\n",
        "\n",
        "print(maxl)\n",
        "\n",
        "# Pancser nő megoldása\n",
        "maxl = sc.textFile(\"alkotmany.txt\")\\\n",
        ".flatMap(lambda l : l.split(\" \"))\\\n",
        ".map(lambda l: l.replace(':',\"\").replace(\",\",\"\").replace(\".\", \"\").replace(\"!\",\"\"))\\\n",
        ".map(lambda w : (w,len(w)))\\\n",
        ".max(key=lambda x: x[1])\n",
        "\n",
        "print(maxl)\n",
        "\n",
        "# Saját vagány\n",
        "maxl = sc.textFile(\"alkotmany.txt\")\\\n",
        ".flatMap(lambda l : l.split(\" \"))\\\n",
        ".map(lambda l: l.replace(':',\"\").replace(\",\",\"\").replace(\".\", \"\").replace(\"!\",\"\"))\\\n",
        ".map(lambda w : (w,len(w)))\\\n",
        ".reduce(lambda a, b: max(a,b, key = lambda x: x[1]))\n",
        "\n",
        "print(maxl)"
      ],
      "metadata": {
        "id": "eIoecF7ScjXK",
        "colab": {
          "base_uri": "https://localhost:8080/"
        },
        "outputId": "c3e963e1-27f2-4b4b-c1b7-8c6ba374cbc6"
      },
      "id": "eIoecF7ScjXK",
      "execution_count": 25,
      "outputs": [
        {
          "output_type": "stream",
          "name": "stdout",
          "text": [
            "('nemzetiszocialista', 18)\n",
            "('nemzetiszocialista', 18)\n",
            "('nemzetiszocialista', 18)\n"
          ]
        }
      ]
    },
    {
      "cell_type": "code",
      "source": [
        "# 4. feladat: Adjuk meg kezdőbetűnként a leghosszabb szó hosszát!\n",
        "\n",
        "lines = sc.textFile('alkotmany.txt')\\\n",
        ".flatMap(lambda l: l.split(\" \"))\\\n",
        ".map(lambda l: l.replace(':',\"\").replace(\",\",\"\").replace(\".\", \"\").replace(\"!\",\"\"))\\\n",
        ".map(lambda w: (w.lower()[0], len(w)))\\\n",
        ".groupByKey()\\\n",
        ".mapValues(max)\\\n",
        ".sortBy(lambda t: t[1], False)\n",
        "\n",
        "a = lines.take(10)\n",
        "\n",
        "# Megoldás\n",
        "\n",
        "lines = sc.textFile(\"alkotmany.txt\")\\\n",
        ".flatMap(lambda l : l.split(\" \"))\\\n",
        ".map(lambda l: l.replace(':',\"\").replace(\",\",\"\").replace(\".\", \"\").replace(\"!\",\"\"))\\\n",
        ".map(lambda w: (w[0].lower(), len(w)))\\\n",
        ".reduceByKey(lambda a,b: a if a > b else b)\\\n",
        ".sortBy(lambda t: t[1], False)\n",
        "\n",
        "b = lines.take(10)\n",
        "a == b"
      ],
      "metadata": {
        "id": "I5N6FVVddeuF",
        "colab": {
          "base_uri": "https://localhost:8080/"
        },
        "outputId": "081b4817-2686-44a6-d210-a58f3ebcd10e"
      },
      "id": "I5N6FVVddeuF",
      "execution_count": 26,
      "outputs": [
        {
          "output_type": "execute_result",
          "data": {
            "text/plain": [
              "True"
            ]
          },
          "metadata": {},
          "execution_count": 26
        }
      ]
    },
    {
      "cell_type": "code",
      "source": [
        "import random\n",
        "import math\n",
        "\n",
        "num_sample = 1000\n",
        "\n",
        "def inside(p):\n",
        "  x, y = random.random(), random.random()\n",
        "  return math.sqrt(x **2 + y ** 2) <= 1\n",
        "\n",
        "count = sc.parallelize(range(0, num_sample))\\\n",
        ".filter(inside)\\\n",
        ".count()\n",
        "\n",
        "pi = 4 * (count / num_sample)\n",
        "\n",
        "print(pi)"
      ],
      "metadata": {
        "id": "auWOoS-OeCes",
        "colab": {
          "base_uri": "https://localhost:8080/"
        },
        "outputId": "0091e084-6627-40be-b93e-c3a10481eb92"
      },
      "id": "auWOoS-OeCes",
      "execution_count": 27,
      "outputs": [
        {
          "output_type": "stream",
          "name": "stdout",
          "text": [
            "3.072\n"
          ]
        }
      ]
    },
    {
      "cell_type": "code",
      "source": [
        "def isfloat(s:str) -> bool:\n",
        "    try:\n",
        "        float(s)\n",
        "        return True\n",
        "    except ValueError:\n",
        "        return False\n",
        "\n",
        "'''lines = sc.textFile(\"tempBudapestMeteoBlue.csv\")\\\n",
        ".flatMap(lambda l: l.split(\",\"))\\\n",
        ".filter(lambda x: isfloat(x[1]) and len(x[0]) > 10)\\\n",
        ".max(key=lambda x: float(x[1]))'''\n",
        "\n",
        "print(lines)\n",
        "\n",
        "# Megoldás\n",
        "data = sc.textFile('tempBudapestMeteoBlue.csv')\n",
        "\n",
        "data\\\n",
        ".filter(lambda l: l.startswith('20'))\\\n",
        ".map(lambda l: l.split(','))\\\n",
        ".map(lambda l: (l[0].split('T'), l[1]))\\\n",
        ".map(lambda l: (l[0][0], (l[0][1], float(l[1]))))\\\n",
        ".reduceByKey(lambda a,b: a if a[1] > b[1] else b)\\\n",
        ".collect()\n"
      ],
      "metadata": {
        "id": "wZoNNrDwyWRP",
        "colab": {
          "base_uri": "https://localhost:8080/"
        },
        "outputId": "77704072-daf3-41a5-e11d-8315b9612f2e"
      },
      "id": "wZoNNrDwyWRP",
      "execution_count": 37,
      "outputs": [
        {
          "output_type": "stream",
          "name": "stdout",
          "text": [
            "(3249, 479)\n"
          ]
        },
        {
          "output_type": "execute_result",
          "data": {
            "text/plain": [
              "[('20200916', ('1600', 31.431458)),\n",
              " ('20200917', ('1500', 30.111458)),\n",
              " ('20200918', ('1600', 22.861458)),\n",
              " ('20200919', ('1600', 23.311459)),\n",
              " ('20200920', ('1700', 25.321459)),\n",
              " ('20200921', ('1300', 27.171457)),\n",
              " ('20200922', ('1600', 27.831459)),\n",
              " ('20200923', ('1400', 27.131458)),\n",
              " ('20200924', ('1500', 26.421457)),\n",
              " ('20200926', ('0000', 17.621458)),\n",
              " ('20200927', ('1500', 18.401459)),\n",
              " ('20200928', ('1500', 19.731459)),\n",
              " ('20200914', ('1700', 30.651459)),\n",
              " ('20200915', ('1600', 32.06146)),\n",
              " ('20200925', ('1800', 22.981459))]"
            ]
          },
          "metadata": {},
          "execution_count": 37
        }
      ]
    },
    {
      "cell_type": "code",
      "source": [
        "#Akkumulátor\n",
        "keresendo = sc.broadcast(['MAGYAR'])\n",
        "elofordulas = sc.accumulator(0)\n",
        "\n",
        "def countWord(w):\n",
        "  if keresendo.value[0] in w.upper():\n",
        "    elofordulas.add(1)\n",
        "\n",
        "lines = sc.textFile('alkotmany.txt')\\\n",
        ".flatMap(lambda l: l.split(\" \"))\\\n",
        ".foreach(countWord)\n",
        "\n",
        "print(elofordulas)"
      ],
      "metadata": {
        "id": "UKn8kMkrzDsq",
        "colab": {
          "base_uri": "https://localhost:8080/"
        },
        "outputId": "c64c97fa-2703-476a-c7f2-6361b38d1369"
      },
      "id": "UKn8kMkrzDsq",
      "execution_count": 30,
      "outputs": [
        {
          "output_type": "stream",
          "name": "stdout",
          "text": [
            "12\n"
          ]
        }
      ]
    },
    {
      "cell_type": "code",
      "source": [
        "#Maxtemp feladat úgy, hogy megszámoljuk a 30 foknál melegebb napok számát\n",
        "hotterthan = sc.accumulator(0)\n",
        "degree = sc.broadcast([30])\n",
        "def countHot(d):\n",
        "  if degree.value[0] < d[1][1]:\n",
        "    hotterthan.add(1)\n",
        "  return d\n",
        "\n",
        "data = sc.textFile('tempBudapestMeteoBlue.csv')\n",
        "\n",
        "datas = data\\\n",
        ".filter(lambda l: l.startswith('20'))\\\n",
        ".map(lambda l: l.split(','))\\\n",
        ".map(lambda l: (l[0].split('T'), l[1]))\\\n",
        ".map(lambda l: (l[0][0], (l[0][1], float(l[1]))))\\\n",
        ".reduceByKey(lambda a,b: a if a[1] > b[1] else b)\\\n",
        ".map(lambda l: countHot(l))\\\n",
        ".collect()\n",
        "\n",
        "print(hotterthan)\n",
        "print(*datas, sep='\\n')"
      ],
      "metadata": {
        "colab": {
          "base_uri": "https://localhost:8080/"
        },
        "id": "rar0GIN57eZN",
        "outputId": "c856ed68-e6cb-4d42-c2c4-b23ad6874419"
      },
      "id": "rar0GIN57eZN",
      "execution_count": 38,
      "outputs": [
        {
          "output_type": "stream",
          "name": "stdout",
          "text": [
            "4\n",
            "('20200916', ('1600', 31.431458))\n",
            "('20200917', ('1500', 30.111458))\n",
            "('20200918', ('1600', 22.861458))\n",
            "('20200919', ('1600', 23.311459))\n",
            "('20200920', ('1700', 25.321459))\n",
            "('20200921', ('1300', 27.171457))\n",
            "('20200922', ('1600', 27.831459))\n",
            "('20200923', ('1400', 27.131458))\n",
            "('20200924', ('1500', 26.421457))\n",
            "('20200926', ('0000', 17.621458))\n",
            "('20200927', ('1500', 18.401459))\n",
            "('20200928', ('1500', 19.731459))\n",
            "('20200914', ('1700', 30.651459))\n",
            "('20200915', ('1600', 32.06146))\n",
            "('20200925', ('1800', 22.981459))\n"
          ]
        }
      ]
    },
    {
      "cell_type": "code",
      "source": [
        "# Spark gyakorló feladatok #2\n",
        "\n",
        "letters = ['A','C','G','T']\n",
        "\n",
        "three_mer = {}\n",
        "for i in range(4):\n",
        "  for j in range(4):\n",
        "    for k in range(4):\n",
        "        three_mer[(letters[i], letters[j],letters[k])] =  sc.accumulator(0)\n",
        "#print(three_mer)\n",
        "data = sc.textFile('kmer_input1.txt')\n",
        "\n",
        "kmer = data.flatMap(lambda l: [l[i:i+3] for i in range(len(l) -2)])\\\n",
        ".filter(lambda l: 'T' in l.upper())\\\n",
        ".map(lambda kmer: (kmer, 1))\\\n",
        ".reduceByKey(lambda a,b: a +b)\\\n",
        ".filter(lambda x: x[1] > 30)\n",
        "\n",
        "\n",
        "\n",
        "kmer.collect()"
      ],
      "metadata": {
        "id": "-3WYqVAx8YNj",
        "colab": {
          "base_uri": "https://localhost:8080/"
        },
        "outputId": "adfcd9e9-1b79-4027-b410-73a71ab1f0c0"
      },
      "id": "-3WYqVAx8YNj",
      "execution_count": 83,
      "outputs": [
        {
          "output_type": "execute_result",
          "data": {
            "text/plain": [
              "[('GCT', 31),\n",
              " ('TTC', 32),\n",
              " ('ATT', 40),\n",
              " ('AAT', 35),\n",
              " ('TGG', 47),\n",
              " ('GTT', 33),\n",
              " ('CGT', 32),\n",
              " ('ATC', 32),\n",
              " ('TTT', 37),\n",
              " ('TCA', 31),\n",
              " ('CAT', 32),\n",
              " ('CTG', 58),\n",
              " ('TGA', 35),\n",
              " ('TGC', 53),\n",
              " ('ATG', 35),\n",
              " ('GTG', 39),\n",
              " ('GAT', 39),\n",
              " ('TTA', 31),\n",
              " ('GGT', 38),\n",
              " ('TTG', 32)]"
            ]
          },
          "metadata": {},
          "execution_count": 83
        }
      ]
    }
  ],
  "metadata": {
    "kernelspec": {
      "display_name": "Python 3 (ipykernel)",
      "language": "python",
      "name": "python3"
    },
    "language_info": {
      "codemirror_mode": {
        "name": "ipython",
        "version": 3
      },
      "file_extension": ".py",
      "mimetype": "text/x-python",
      "name": "python",
      "nbconvert_exporter": "python",
      "pygments_lexer": "ipython3",
      "version": "3.12.5"
    },
    "colab": {
      "provenance": [],
      "include_colab_link": true
    }
  },
  "nbformat": 4,
  "nbformat_minor": 5
}