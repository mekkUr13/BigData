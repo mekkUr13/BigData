{
  "nbformat": 4,
  "nbformat_minor": 0,
  "metadata": {
    "colab": {
      "provenance": []
    },
    "kernelspec": {
      "name": "python3",
      "display_name": "Python 3"
    },
    "language_info": {
      "name": "python"
    }
  },
  "cells": [
    {
      "cell_type": "code",
      "execution_count": 1,
      "metadata": {
        "id": "YjvDdbWIORXY",
        "colab": {
          "base_uri": "https://localhost:8080/",
          "height": 0
        },
        "outputId": "b1f80fcd-7a85-4538-9e93-7be17765221c"
      },
      "outputs": [
        {
          "output_type": "stream",
          "name": "stdout",
          "text": [
            "Requirement already satisfied: pyspark in /usr/local/lib/python3.10/dist-packages (3.5.3)\n",
            "Requirement already satisfied: py4j==0.10.9.7 in /usr/local/lib/python3.10/dist-packages (from pyspark) (0.10.9.7)\n"
          ]
        }
      ],
      "source": [
        "!pip install pyspark"
      ]
    },
    {
      "cell_type": "code",
      "source": [
        "from pyspark.sql import SparkSession\n",
        "from pyspark.sql import *\n",
        "from pyspark.sql.functions import *\n",
        "from pyspark.sql.types import StructType, StructField, StringType, IntegerType\n",
        "\n",
        "spark = SparkSession.builder.getOrCreate()"
      ],
      "metadata": {
        "id": "3XJv5_6NOsAp"
      },
      "execution_count": 2,
      "outputs": []
    },
    {
      "cell_type": "code",
      "source": [
        "retail = spark.read.format(\"csv\")\\\n",
        ".option('header', True)\\\n",
        ".option(\"inferschema\", True)\\\n",
        ".load(\"online_retail_data.csv\")"
      ],
      "metadata": {
        "id": "Pe7UK_XiQN2S"
      },
      "execution_count": 4,
      "outputs": []
    },
    {
      "cell_type": "code",
      "source": [
        "retail.show(5)"
      ],
      "metadata": {
        "colab": {
          "base_uri": "https://localhost:8080/",
          "height": 0
        },
        "id": "VJTDUgzfRIBE",
        "outputId": "9861a71f-ac88-4a50-9c27-5e342d7a6b94"
      },
      "execution_count": 5,
      "outputs": [
        {
          "output_type": "stream",
          "name": "stdout",
          "text": [
            "+---------+---------+--------------------+--------+---------------+---------+----------+--------------+\n",
            "|InvoiceNo|StockCode|         Description|Quantity|    InvoiceDate|UnitPrice|CustomerID|       Country|\n",
            "+---------+---------+--------------------+--------+---------------+---------+----------+--------------+\n",
            "|   536365|   85123A|WHITE HANGING HEA...|       6|01/12/2010 8:26|     2.55|     17850|United Kingdom|\n",
            "|   536365|    71053| WHITE METAL LANTERN|       6|01/12/2010 8:26|     3.39|     17850|United Kingdom|\n",
            "|   536365|   84406B|CREAM CUPID HEART...|       8|01/12/2010 8:26|     2.75|     17850|United Kingdom|\n",
            "|   536365|   84029G|KNITTED UNION FLA...|       6|01/12/2010 8:26|     3.39|     17850|United Kingdom|\n",
            "|   536365|   84029E|RED WOOLLY HOTTIE...|       6|01/12/2010 8:26|     3.39|     17850|United Kingdom|\n",
            "+---------+---------+--------------------+--------+---------------+---------+----------+--------------+\n",
            "only showing top 5 rows\n",
            "\n"
          ]
        }
      ]
    },
    {
      "cell_type": "markdown",
      "source": [
        "1.feladat: Átlagosan hány különböző terméket vesz egy vásárló egy vásárlás során?"
      ],
      "metadata": {
        "id": "3EAwasKDSGTR"
      }
    },
    {
      "cell_type": "code",
      "source": [
        "retail\\\n",
        ".groupBy(\"InvoiceNo\")\\\n",
        ".agg(countDistinct(\"StockCode\").alias(\"db\"))\\\n",
        ".select(avg(\"db\"))\\\n",
        ".show()"
      ],
      "metadata": {
        "colab": {
          "base_uri": "https://localhost:8080/",
          "height": 0
        },
        "id": "zZ1MOA8XQ7bY",
        "outputId": "8c751d9f-d426-4be4-9e14-42ec02d99d16"
      },
      "execution_count": 9,
      "outputs": [
        {
          "output_type": "stream",
          "name": "stdout",
          "text": [
            "+------------------+\n",
            "|           avg(db)|\n",
            "+------------------+\n",
            "|20.514131274131273|\n",
            "+------------------+\n",
            "\n"
          ]
        }
      ]
    },
    {
      "cell_type": "markdown",
      "source": [
        "2.feladat: Melyik tranzakció során vásárolták a legtöbb különböző terméket és hányat?"
      ],
      "metadata": {
        "id": "vtgHoDHbSJZS"
      }
    },
    {
      "cell_type": "code",
      "source": [
        "retail\\\n",
        ".groupBy(\"InvoiceNo\")\\\n",
        ".agg(countDistinct(\"StockCode\").alias(\"db\"))\\\n",
        ".orderBy(desc(\"db\"))\\\n",
        ".limit(1)\\\n",
        ".show()"
      ],
      "metadata": {
        "colab": {
          "base_uri": "https://localhost:8080/",
          "height": 0
        },
        "id": "8yVV4JzwSBb_",
        "outputId": "17e8434b-0ddf-452c-fdca-9b9b4814cdfe"
      },
      "execution_count": 13,
      "outputs": [
        {
          "output_type": "stream",
          "name": "stdout",
          "text": [
            "+---------+----+\n",
            "|InvoiceNo|  db|\n",
            "+---------+----+\n",
            "|   573585|1110|\n",
            "+---------+----+\n",
            "\n"
          ]
        }
      ]
    },
    {
      "cell_type": "markdown",
      "source": [
        "3.feladat: Melyik termék termelte a legnagyobb bevételt?"
      ],
      "metadata": {
        "id": "2jy2JPO7TOgg"
      }
    },
    {
      "cell_type": "code",
      "source": [
        "from pyspark.sql.functions import col\n",
        "\n",
        "retail.selectExpr('*', '(Quantity * UnitPrice) as bevetel')\\\n",
        ".groupBy('StockCode')\\\n",
        ".sum('bevetel')\\\n",
        ".orderBy(col('sum(bevetel)').desc() )\\\n",
        ".limit(1)\\\n",
        ".show()"
      ],
      "metadata": {
        "colab": {
          "base_uri": "https://localhost:8080/",
          "height": 0
        },
        "id": "NIphQd8bTOy_",
        "outputId": "68d9816e-d81b-4cc3-838a-e82b6c99dd5b"
      },
      "execution_count": 16,
      "outputs": [
        {
          "output_type": "stream",
          "name": "stdout",
          "text": [
            "+---------+------------------+\n",
            "|StockCode|      sum(bevetel)|\n",
            "+---------+------------------+\n",
            "|      DOT|206245.48000000004|\n",
            "+---------+------------------+\n",
            "\n"
          ]
        }
      ]
    }
  ]
}