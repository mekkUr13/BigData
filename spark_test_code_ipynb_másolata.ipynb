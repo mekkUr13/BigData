{
  "cells": [
    {
      "cell_type": "markdown",
      "metadata": {
        "id": "view-in-github",
        "colab_type": "text"
      },
      "source": [
        "<a href=\"https://colab.research.google.com/github/mekkUr13/BigData/blob/main/spark_test_code_ipynb_m%C3%A1solata.ipynb\" target=\"_parent\"><img src=\"https://colab.research.google.com/assets/colab-badge.svg\" alt=\"Open In Colab\"/></a>"
      ]
    },
    {
      "cell_type": "code",
      "source": [
        "!pip install pyspark"
      ],
      "metadata": {
        "colab": {
          "base_uri": "https://localhost:8080/"
        },
        "id": "Hzl7-8hpkY3O",
        "outputId": "e8f58b22-a04e-4637-c6b6-5c123de3b1d5"
      },
      "id": "Hzl7-8hpkY3O",
      "execution_count": null,
      "outputs": [
        {
          "output_type": "stream",
          "name": "stdout",
          "text": [
            "Requirement already satisfied: pyspark in /usr/local/lib/python3.10/dist-packages (3.5.3)\n",
            "Requirement already satisfied: py4j==0.10.9.7 in /usr/local/lib/python3.10/dist-packages (from pyspark) (0.10.9.7)\n"
          ]
        }
      ]
    },
    {
      "cell_type": "code",
      "source": [
        "import os\n",
        "\n",
        "os.getcwd()"
      ],
      "metadata": {
        "colab": {
          "base_uri": "https://localhost:8080/",
          "height": 36
        },
        "id": "UzdR_g4sf6DP",
        "outputId": "ac92efa1-70d8-4c0a-cae9-073a4e244c19"
      },
      "id": "UzdR_g4sf6DP",
      "execution_count": null,
      "outputs": [
        {
          "output_type": "execute_result",
          "data": {
            "text/plain": [
              "'/content'"
            ],
            "application/vnd.google.colaboratory.intrinsic+json": {
              "type": "string"
            }
          },
          "metadata": {},
          "execution_count": 13
        }
      ]
    },
    {
      "cell_type": "code",
      "source": [
        "from google.colab import drive\n",
        "drive.mount('/content/drive')"
      ],
      "metadata": {
        "colab": {
          "base_uri": "https://localhost:8080/"
        },
        "id": "ic8Xry3BgW7q",
        "outputId": "b1146eea-17a2-4dec-9e6c-49197db673e7"
      },
      "id": "ic8Xry3BgW7q",
      "execution_count": null,
      "outputs": [
        {
          "output_type": "stream",
          "name": "stdout",
          "text": [
            "Drive already mounted at /content/drive; to attempt to forcibly remount, call drive.mount(\"/content/drive\", force_remount=True).\n"
          ]
        }
      ]
    },
    {
      "cell_type": "code",
      "execution_count": null,
      "id": "9a7d4a05-5e59-44dd-a6d3-0cac83b122d7",
      "metadata": {
        "jupyter": {
          "is_executing": true
        },
        "id": "9a7d4a05-5e59-44dd-a6d3-0cac83b122d7",
        "colab": {
          "base_uri": "https://localhost:8080/",
          "height": 225
        },
        "outputId": "f0637ba2-cec2-4e32-f5b0-11f955907625"
      },
      "outputs": [
        {
          "output_type": "error",
          "ename": "ValueError",
          "evalue": "Cannot run multiple SparkContexts at once; existing SparkContext(app=pyspark-shell, master=local[*]) created by __init__ at <ipython-input-4-f8b685820852>:4 ",
          "traceback": [
            "\u001b[0;31m---------------------------------------------------------------------------\u001b[0m",
            "\u001b[0;31mValueError\u001b[0m                                Traceback (most recent call last)",
            "\u001b[0;32m<ipython-input-15-f8b685820852>\u001b[0m in \u001b[0;36m<cell line: 4>\u001b[0;34m()\u001b[0m\n\u001b[1;32m      2\u001b[0m \u001b[0;34m\u001b[0m\u001b[0m\n\u001b[1;32m      3\u001b[0m \u001b[0mconf\u001b[0m \u001b[0;34m=\u001b[0m \u001b[0mSparkConf\u001b[0m\u001b[0;34m(\u001b[0m\u001b[0;34m)\u001b[0m\u001b[0;34m\u001b[0m\u001b[0;34m\u001b[0m\u001b[0m\n\u001b[0;32m----> 4\u001b[0;31m \u001b[0msc\u001b[0m \u001b[0;34m=\u001b[0m \u001b[0mSparkContext\u001b[0m\u001b[0;34m(\u001b[0m\u001b[0mconf\u001b[0m\u001b[0;34m=\u001b[0m\u001b[0mconf\u001b[0m\u001b[0;34m)\u001b[0m\u001b[0;34m\u001b[0m\u001b[0;34m\u001b[0m\u001b[0m\n\u001b[0m",
            "\u001b[0;32m/usr/local/lib/python3.10/dist-packages/pyspark/context.py\u001b[0m in \u001b[0;36m__init__\u001b[0;34m(self, master, appName, sparkHome, pyFiles, environment, batchSize, serializer, conf, gateway, jsc, profiler_cls, udf_profiler_cls, memory_profiler_cls)\u001b[0m\n\u001b[1;32m    199\u001b[0m             )\n\u001b[1;32m    200\u001b[0m \u001b[0;34m\u001b[0m\u001b[0m\n\u001b[0;32m--> 201\u001b[0;31m         \u001b[0mSparkContext\u001b[0m\u001b[0;34m.\u001b[0m\u001b[0m_ensure_initialized\u001b[0m\u001b[0;34m(\u001b[0m\u001b[0mself\u001b[0m\u001b[0;34m,\u001b[0m \u001b[0mgateway\u001b[0m\u001b[0;34m=\u001b[0m\u001b[0mgateway\u001b[0m\u001b[0;34m,\u001b[0m \u001b[0mconf\u001b[0m\u001b[0;34m=\u001b[0m\u001b[0mconf\u001b[0m\u001b[0;34m)\u001b[0m\u001b[0;34m\u001b[0m\u001b[0;34m\u001b[0m\u001b[0m\n\u001b[0m\u001b[1;32m    202\u001b[0m         \u001b[0;32mtry\u001b[0m\u001b[0;34m:\u001b[0m\u001b[0;34m\u001b[0m\u001b[0;34m\u001b[0m\u001b[0m\n\u001b[1;32m    203\u001b[0m             self._do_init(\n",
            "\u001b[0;32m/usr/local/lib/python3.10/dist-packages/pyspark/context.py\u001b[0m in \u001b[0;36m_ensure_initialized\u001b[0;34m(cls, instance, gateway, conf)\u001b[0m\n\u001b[1;32m    447\u001b[0m \u001b[0;34m\u001b[0m\u001b[0m\n\u001b[1;32m    448\u001b[0m                     \u001b[0;31m# Raise error if there is already a running Spark context\u001b[0m\u001b[0;34m\u001b[0m\u001b[0;34m\u001b[0m\u001b[0m\n\u001b[0;32m--> 449\u001b[0;31m                     raise ValueError(\n\u001b[0m\u001b[1;32m    450\u001b[0m                         \u001b[0;34m\"Cannot run multiple SparkContexts at once; \"\u001b[0m\u001b[0;34m\u001b[0m\u001b[0;34m\u001b[0m\u001b[0m\n\u001b[1;32m    451\u001b[0m                         \u001b[0;34m\"existing SparkContext(app=%s, master=%s)\"\u001b[0m\u001b[0;34m\u001b[0m\u001b[0;34m\u001b[0m\u001b[0m\n",
            "\u001b[0;31mValueError\u001b[0m: Cannot run multiple SparkContexts at once; existing SparkContext(app=pyspark-shell, master=local[*]) created by __init__ at <ipython-input-4-f8b685820852>:4 "
          ]
        }
      ],
      "source": [
        "from pyspark import SparkConf, SparkContext\n",
        "\n",
        "conf = SparkConf()\n",
        "sc = SparkContext(conf=conf)\n"
      ]
    },
    {
      "cell_type": "code",
      "execution_count": null,
      "id": "ac782b5a-1abc-4b9c-9501-d893fd22c213",
      "metadata": {
        "id": "ac782b5a-1abc-4b9c-9501-d893fd22c213",
        "colab": {
          "base_uri": "https://localhost:8080/"
        },
        "outputId": "d7f1669b-f7ea-43f8-b3b3-d67ffe4530ac"
      },
      "outputs": [
        {
          "output_type": "stream",
          "name": "stdout",
          "text": [
            "Működik a Spark!\n"
          ]
        }
      ],
      "source": [
        "x = \"MWűGkyösdwinko Qau fSJpDaTrykv!w\"\n",
        "\n",
        "rdd = sc.parallelize([x[i:i+2] for i in range(0, len(x), 2)])\n",
        "res = rdd.map(lambda x: x[0]).collect()\n",
        "\n",
        "print(\"\".join(res))"
      ]
    },
    {
      "cell_type": "code",
      "execution_count": null,
      "id": "43e2c27e-2cbe-4d3e-9dd2-611b5912fecc",
      "metadata": {
        "id": "43e2c27e-2cbe-4d3e-9dd2-611b5912fecc",
        "colab": {
          "base_uri": "https://localhost:8080/"
        },
        "outputId": "dccd49bd-7c6c-4138-ed74-801031d43b78"
      },
      "outputs": [
        {
          "output_type": "execute_result",
          "data": {
            "text/plain": [
              "ParallelCollectionRDD[16] at readRDDFromFile at PythonRDD.scala:289"
            ]
          },
          "metadata": {},
          "execution_count": 17
        }
      ],
      "source": [
        "# RDD = resilient distributed dataset\n",
        "# Az RDD objektumok immutábilis elosztott kollekciója\n",
        "# RDD létrehozható bármilyen kollekcióból az sc.parallelize() függvénnyel.\n",
        "# Az sc.parallelize() második argumentumában megadhatjuk hány partíción legyenek elosztva az adatok\n",
        "\n",
        "tomb = ['a', 'b', 'c', 'd', 'e', 'f']\n",
        "\n",
        "rdd = sc.parallelize(tomb, 5)\n",
        "rdd"
      ]
    },
    {
      "cell_type": "code",
      "source": [
        "# Az alábbi függvény visszaadja az RDD partícióinak a számát.\n",
        "\n",
        "rdd.getNumPartitions()"
      ],
      "metadata": {
        "id": "Va2eOl51k5AR",
        "colab": {
          "base_uri": "https://localhost:8080/"
        },
        "outputId": "f4ec308e-7264-49c8-fdef-d81e9f12bec6"
      },
      "id": "Va2eOl51k5AR",
      "execution_count": null,
      "outputs": [
        {
          "output_type": "execute_result",
          "data": {
            "text/plain": [
              "5"
            ]
          },
          "metadata": {},
          "execution_count": 18
        }
      ]
    },
    {
      "cell_type": "code",
      "source": [
        "# Egy RDD újrapraticionálható, azonban ez a klaszter gépei közötti kommunikációt igényel\n",
        "\n",
        "rdd2 = rdd.repartition(3)\n",
        "rdd2.getNumPartitions()"
      ],
      "metadata": {
        "id": "lsBnoRxPk7sZ",
        "colab": {
          "base_uri": "https://localhost:8080/"
        },
        "outputId": "238080f7-4b0f-4b8a-f27c-86266d053b5c"
      },
      "id": "lsBnoRxPk7sZ",
      "execution_count": null,
      "outputs": [
        {
          "output_type": "execute_result",
          "data": {
            "text/plain": [
              "3"
            ]
          },
          "metadata": {},
          "execution_count": 19
        }
      ]
    },
    {
      "cell_type": "code",
      "source": [
        "# Az RDD-ken alkalmazhatunk transzformációkat és akciókat\n",
        "# A transzformáció RDD-ből új RDD-t hoz létre\n",
        "# Az akciókkat RDD-re alkalmazzuk és egyszerű értékkel térnek vissza\n",
        "\n",
        "# Az alábbi kód létrehoz egy RDD-t, amely 1000 számot tartalmaz\n",
        "# A filter() transzformáció szűr a hárommal osztható számokra\n",
        "# A count() akicó megszámolja az RDD-ben található értékeket\n",
        "\n",
        "szamok = sc.parallelize(range(1000)).filter(lambda x: x % 3 == 0)\n",
        "szamok.count()"
      ],
      "metadata": {
        "id": "_wsQd5sok-Fr",
        "colab": {
          "base_uri": "https://localhost:8080/"
        },
        "outputId": "c6ad2f80-2b6d-41d7-e6a3-c4e47d9a91ee"
      },
      "id": "_wsQd5sok-Fr",
      "execution_count": null,
      "outputs": [
        {
          "output_type": "execute_result",
          "data": {
            "text/plain": [
              "334"
            ]
          },
          "metadata": {},
          "execution_count": 20
        }
      ]
    },
    {
      "cell_type": "code",
      "source": [
        "# Transzformációk: filter, map, flatMap, sort, sample, union, intersection, distinct\n",
        "# Akciók: count, take, collect, max, min, reduce, foreach\n",
        "# A nevük elárulja mit csinálnak, de érdemes kipróbálni őket!\n",
        "\n",
        "# Példa: számok összeadása\n",
        "# A reduce() akció aggregálja az elemeket egy függvénnyel, amely két argumentumot kap és egy értékkel tér vissza\n",
        "# Kommutatív és asszociatív függvénynek kell lennie, hogy párhuzamosan végrehajtható legyen\n",
        "\n",
        "szamok = sc.parallelize(range(1000))\\\n",
        ".filter(lambda x: x % 3 == 0)\\\n",
        ".reduce(lambda a, b: a + b)\n",
        "\n",
        "print(szamok)"
      ],
      "metadata": {
        "id": "SzzqQg3ZVdY3",
        "colab": {
          "base_uri": "https://localhost:8080/"
        },
        "outputId": "1f6f1b96-b507-4a26-9936-61d7e1581e93"
      },
      "id": "SzzqQg3ZVdY3",
      "execution_count": null,
      "outputs": [
        {
          "output_type": "stream",
          "name": "stdout",
          "text": [
            "166833\n"
          ]
        }
      ]
    },
    {
      "cell_type": "code",
      "source": [
        "# Lemezen lévő fájlból is készíthetünk RDD-t\n",
        "# Az alábbi kód kírja a szöveg első két sorát:\n",
        "\n",
        "lines = sc.textFile('alkotmany.txt').take(2)\n",
        "\n",
        "print(lines)"
      ],
      "metadata": {
        "id": "ZQ2X_D-bXCss",
        "colab": {
          "base_uri": "https://localhost:8080/"
        },
        "outputId": "9c746455-ee44-4629-d19f-170a44e3cc5f"
      },
      "id": "ZQ2X_D-bXCss",
      "execution_count": null,
      "outputs": [
        {
          "output_type": "stream",
          "name": "stdout",
          "text": [
            "['Mi, a magyar nemzet tagjai, az új évezred kezdetén, felelősséggel minden magyarért, kinyilvánítjuk az alábbiakat:', 'Büszkék vagyunk arra, hogy Szent István királyunk ezer évvel ezelőtt szilárd alapokra helyezte a magyar államot, és hazánkat a keresztény Európa részévé tette.']\n"
          ]
        }
      ]
    },
    {
      "cell_type": "code",
      "source": [
        "# Feladat: Grep külön függvénnyel\n",
        "\n",
        "def filter_row(line):\n",
        "    grepWord = 'magyar'\n",
        "    if grepWord in line:\n",
        "        return True\n",
        "    else:\n",
        "        return False\n",
        "\n",
        "\n",
        "lines = sc.textFile('alkotmany.txt')\\\n",
        ".filter(filter_row)\n",
        "\n",
        "lines.take(2)"
      ],
      "metadata": {
        "id": "P9wgjo53XFWO",
        "colab": {
          "base_uri": "https://localhost:8080/"
        },
        "outputId": "312554e3-7fa0-4256-dcc7-8c9e040ad1e8"
      },
      "id": "P9wgjo53XFWO",
      "execution_count": null,
      "outputs": [
        {
          "output_type": "execute_result",
          "data": {
            "text/plain": [
              "['Mi, a magyar nemzet tagjai, az új évezred kezdetén, felelősséggel minden magyarért, kinyilvánítjuk az alábbiakat:',\n",
              " 'Büszkék vagyunk arra, hogy Szent István királyunk ezer évvel ezelőtt szilárd alapokra helyezte a magyar államot, és hazánkat a keresztény Európa részévé tette.']"
            ]
          },
          "metadata": {},
          "execution_count": 23
        }
      ]
    },
    {
      "cell_type": "code",
      "source": [
        "# Feladat: Grep\n",
        "\n",
        "grepWord = 'magyar'\n",
        "\n",
        "lines = sc.textFile('alkotmany.txt')\\\n",
        ".filter(lambda line: grepWord in line)\n",
        "\n",
        "lines.take(2)"
      ],
      "metadata": {
        "id": "eB1yEyPwYVR0",
        "colab": {
          "base_uri": "https://localhost:8080/"
        },
        "outputId": "7986e241-7d98-4f91-b620-555c8c0c305f"
      },
      "id": "eB1yEyPwYVR0",
      "execution_count": null,
      "outputs": [
        {
          "output_type": "execute_result",
          "data": {
            "text/plain": [
              "['Mi, a magyar nemzet tagjai, az új évezred kezdetén, felelősséggel minden magyarért, kinyilvánítjuk az alábbiakat:',\n",
              " 'Büszkék vagyunk arra, hogy Szent István királyunk ezer évvel ezelőtt szilárd alapokra helyezte a magyar államot, és hazánkat a keresztény Európa részévé tette.']"
            ]
          },
          "metadata": {},
          "execution_count": 24
        }
      ]
    },
    {
      "cell_type": "code",
      "source": [
        "lines = sc.textFile('alkotmany.txt')\\\n",
        ".map(lambda l: l.split(\" \"))\n",
        "\n",
        "lines.take(2)"
      ],
      "metadata": {
        "id": "ZHos6AsbYY2C",
        "colab": {
          "base_uri": "https://localhost:8080/"
        },
        "outputId": "00983a1c-090a-4bce-bbae-69dedb6bef23"
      },
      "id": "ZHos6AsbYY2C",
      "execution_count": null,
      "outputs": [
        {
          "output_type": "execute_result",
          "data": {
            "text/plain": [
              "[['Mi,',\n",
              "  'a',\n",
              "  'magyar',\n",
              "  'nemzet',\n",
              "  'tagjai,',\n",
              "  'az',\n",
              "  'új',\n",
              "  'évezred',\n",
              "  'kezdetén,',\n",
              "  'felelősséggel',\n",
              "  'minden',\n",
              "  'magyarért,',\n",
              "  'kinyilvánítjuk',\n",
              "  'az',\n",
              "  'alábbiakat:'],\n",
              " ['Büszkék',\n",
              "  'vagyunk',\n",
              "  'arra,',\n",
              "  'hogy',\n",
              "  'Szent',\n",
              "  'István',\n",
              "  'királyunk',\n",
              "  'ezer',\n",
              "  'évvel',\n",
              "  'ezelőtt',\n",
              "  'szilárd',\n",
              "  'alapokra',\n",
              "  'helyezte',\n",
              "  'a',\n",
              "  'magyar',\n",
              "  'államot,',\n",
              "  'és',\n",
              "  'hazánkat',\n",
              "  'a',\n",
              "  'keresztény',\n",
              "  'Európa',\n",
              "  'részévé',\n",
              "  'tette.']]"
            ]
          },
          "metadata": {},
          "execution_count": 25
        }
      ]
    },
    {
      "cell_type": "code",
      "source": [
        "lines = sc.textFile('alkotmany.txt')\\\n",
        ".flatMap(lambda l: l.split(\" \"))\\\n",
        ".sortBy(lambda word: word)\n",
        "\n",
        "lines.take(10)"
      ],
      "metadata": {
        "id": "jpq7-VA1YdWg",
        "colab": {
          "base_uri": "https://localhost:8080/"
        },
        "outputId": "542ff4a2-3467-44de-ba7d-9d5a5a680be6"
      },
      "id": "jpq7-VA1YdWg",
      "execution_count": null,
      "outputs": [
        {
          "output_type": "execute_result",
          "data": {
            "text/plain": [
              "['1944.',\n",
              " '1949.',\n",
              " '1956-os',\n",
              " '1990.',\n",
              " 'Alaptörvényünk',\n",
              " 'Becsüljük',\n",
              " 'Bízunk',\n",
              " 'Büszkék',\n",
              " 'Büszkék',\n",
              " 'Büszkék']"
            ]
          },
          "metadata": {},
          "execution_count": 26
        }
      ]
    },
    {
      "cell_type": "code",
      "source": [
        "# Kulcs-érték párok készítése\n",
        "# Műveletek kulcs-érték párokon: reduceByKey, groupByKey, countByKey\n",
        "\n",
        "lines = sc.textFile('alkotmany.txt')\\\n",
        ".flatMap(lambda l: l.split(\" \"))\\\n",
        ".map(lambda w: (w.lower()[0], w.lower()))\n",
        "\n",
        "lines.take(10)"
      ],
      "metadata": {
        "id": "EGcBYu9XYoN6",
        "colab": {
          "base_uri": "https://localhost:8080/"
        },
        "outputId": "b92b05dc-2e09-4017-9108-019f2ff9b881"
      },
      "id": "EGcBYu9XYoN6",
      "execution_count": null,
      "outputs": [
        {
          "output_type": "execute_result",
          "data": {
            "text/plain": [
              "[('m', 'mi,'),\n",
              " ('a', 'a'),\n",
              " ('m', 'magyar'),\n",
              " ('n', 'nemzet'),\n",
              " ('t', 'tagjai,'),\n",
              " ('a', 'az'),\n",
              " ('ú', 'új'),\n",
              " ('é', 'évezred'),\n",
              " ('k', 'kezdetén,'),\n",
              " ('f', 'felelősséggel')]"
            ]
          },
          "metadata": {},
          "execution_count": 27
        }
      ]
    },
    {
      "cell_type": "code",
      "source": [
        "# Feladat: WordCount\n",
        "# Kulcs alapján aggregáló függvények: reduceByKey, aggregateByKey, groupByKey, sortByKey\n",
        "\n",
        "lines = sc.textFile('alkotmany.txt')\\\n",
        ".flatMap(lambda l: l.split(\" \"))\\\n",
        ".map(lambda l: l.replace(':',\"\").replace(\",\",\"\").replace(\".\", \"\").replace(\"!\",\"\"))\\\n",
        ".map(lambda w: (w.lower(), 1))\\\n",
        ".reduceByKey(lambda a, b: a + b)\\\n",
        ".sortBy(lambda x: x[1], False)\n",
        "\n",
        "lines.take(5)"
      ],
      "metadata": {
        "id": "fTkA2mX0YunZ",
        "colab": {
          "base_uri": "https://localhost:8080/"
        },
        "outputId": "05d9301f-5d06-4f9e-9086-82e61eb26011"
      },
      "id": "fTkA2mX0YunZ",
      "execution_count": null,
      "outputs": [
        {
          "output_type": "execute_result",
          "data": {
            "text/plain": [
              "[('a', 41), ('és', 24), ('az', 19), ('hogy', 17), ('valljuk', 9)]"
            ]
          },
          "metadata": {},
          "execution_count": 28
        }
      ]
    },
    {
      "cell_type": "code",
      "source": [
        "# Feladat: WordCount más megoldással\n",
        "\n",
        "lines = sc.textFile('alkotmany.txt')\\\n",
        ".flatMap(lambda l: l.split(\" \"))\\\n",
        ".map(lambda l: l.replace(':',\"\").replace(\",\",\"\").replace(\".\", \"\").replace(\"!\",\"\"))\\\n",
        ".map(lambda w: (w.lower(), 1))\\\n",
        ".groupByKey()\\\n",
        ".mapValues(sum)\\\n",
        ".sortBy(lambda t: t[1], False)\n",
        "\n",
        "lines.take(5)"
      ],
      "metadata": {
        "id": "g5pa3KEfZF1x",
        "colab": {
          "base_uri": "https://localhost:8080/"
        },
        "outputId": "d2b800c7-62a8-4dbf-da86-e56d212b354c"
      },
      "id": "g5pa3KEfZF1x",
      "execution_count": null,
      "outputs": [
        {
          "output_type": "execute_result",
          "data": {
            "text/plain": [
              "[('a', 41), ('és', 24), ('az', 19), ('hogy', 17), ('valljuk', 9)]"
            ]
          },
          "metadata": {},
          "execution_count": 29
        }
      ]
    },
    {
      "cell_type": "markdown",
      "source": [
        "Gyakorló Feladatok"
      ],
      "metadata": {
        "id": "ab6MKwQ_atvr"
      },
      "id": "ab6MKwQ_atvr"
    },
    {
      "cell_type": "code",
      "source": [
        "# 1. feladat: Milyen hosszú a leghosszabb szó?\n",
        "\n",
        "lines = sc.textFile('alkotmany.txt')\\\n",
        ".flatMap(lambda l: l.split(\" \"))\\\n",
        ".map(lambda l: l.replace(':',\"\").replace(\",\",\"\").replace(\".\", \"\").replace(\"!\",\"\"))\\\n",
        ".map(lambda w: (w.lower(), len(w)))\\\n",
        ".sortBy(lambda t: t[1], False)\n",
        "\n",
        "lines.take(1)[0][1]\n",
        "\n",
        "# Egyszerűbben\n",
        "lines = sc.textFile('alkotmany.txt')\\\n",
        ".flatMap(lambda l: l.split(\" \"))\\\n",
        ".map(lambda l: l.replace(':',\"\").replace(\",\",\"\").replace(\".\", \"\").replace(\"!\",\"\"))\\\n",
        ".map(lambda w: len(w))\\\n",
        ".sortBy(lambda t: t, False)\n",
        "\n",
        "lines.take(1)[0]\n",
        "\n",
        "#Pancser vagyok, ennyire egyszerű\n",
        "lines = sc.textFile(\"alkotmany.txt\")\\\n",
        ".flatMap(lambda l : l.split(\" \"))\\\n",
        ".map(lambda w : len(w))\n",
        "\n",
        "lines.max()"
      ],
      "metadata": {
        "id": "ChMErIJ-ZLDa",
        "colab": {
          "base_uri": "https://localhost:8080/"
        },
        "outputId": "5d143636-1e8a-4e02-daa7-0d8e00e1514f"
      },
      "id": "ChMErIJ-ZLDa",
      "execution_count": null,
      "outputs": [
        {
          "output_type": "execute_result",
          "data": {
            "text/plain": [
              "18"
            ]
          },
          "metadata": {},
          "execution_count": 30
        }
      ]
    },
    {
      "cell_type": "code",
      "source": [
        "# 2. feladat: Adjuk meg a szavak átlagos hosszát!\n",
        "\n",
        "avg = sc.textFile('alkotmany.txt')\\\n",
        ".flatMap(lambda l: l.split(\" \"))\\\n",
        ".map(lambda l: l.replace(':',\"\").replace(\",\",\"\").replace(\".\", \"\").replace(\"!\",\"\"))\\\n",
        ".map(lambda w: len(w))\\\n",
        ".reduce(lambda a, b: (a+b)/2)\n",
        "\n",
        "avg\n",
        "\n",
        "# Megoldás\n",
        "\n",
        "lines = sc.textFile(\"alkotmany.txt\")\\\n",
        ".flatMap(lambda l : l.split(\" \"))\\\n",
        ".map(lambda l: l.replace(':',\"\").replace(\",\",\"\").replace(\".\", \"\").replace(\"!\",\"\"))\\\n",
        ".map(lambda w: (len(w), 1) )\\\n",
        ".reduce(lambda a, b: (a[0]+b[0], a[1]+b[1]) )\n",
        "\n",
        "print(lines[0]/lines[1])"
      ],
      "metadata": {
        "id": "AMcU2OKAbDya",
        "colab": {
          "base_uri": "https://localhost:8080/"
        },
        "outputId": "4f46995f-cb5b-4471-ab86-90468511fc84"
      },
      "id": "AMcU2OKAbDya",
      "execution_count": null,
      "outputs": [
        {
          "output_type": "stream",
          "name": "stdout",
          "text": [
            "6.782881002087683\n"
          ]
        }
      ]
    },
    {
      "cell_type": "code",
      "source": [
        "# 3. feladat: Melyik a leghosszabb szó és milyen hosszú?\n",
        "\n",
        "lines = sc.textFile('alkotmany.txt')\\\n",
        ".flatMap(lambda l: l.split(\" \"))\\\n",
        ".map(lambda l: l.replace(':',\"\").replace(\",\",\"\").replace(\".\", \"\").replace(\"!\",\"\"))\\\n",
        ".map(lambda w: (w.lower(), len(w)))\\\n",
        ".sortBy(lambda t: t[1], False)\n",
        "\n",
        "lines.take(1)\n",
        "\n",
        "# Megoldás\n",
        "\n",
        "maxl = sc.textFile(\"alkotmany.txt\")\\\n",
        ".flatMap(lambda l : l.split(\" \"))\\\n",
        ".map(lambda l: l.replace(':',\"\").replace(\",\",\"\").replace(\".\", \"\").replace(\"!\",\"\"))\\\n",
        ".map(lambda w : (w,len(w)))\\\n",
        ".reduce(lambda a, b: a if a[1] > b[1] else b)\n",
        "\n",
        "print(maxl)\n",
        "\n",
        "# Pancser nő megoldása\n",
        "maxl = sc.textFile(\"alkotmany.txt\")\\\n",
        ".flatMap(lambda l : l.split(\" \"))\\\n",
        ".map(lambda l: l.replace(':',\"\").replace(\",\",\"\").replace(\".\", \"\").replace(\"!\",\"\"))\\\n",
        ".map(lambda w : (w,len(w)))\\\n",
        ".max(key=lambda x: x[1])\n",
        "\n",
        "print(maxl)\n",
        "\n",
        "# Saját vagány\n",
        "maxl = sc.textFile(\"alkotmany.txt\")\\\n",
        ".flatMap(lambda l : l.split(\" \"))\\\n",
        ".map(lambda l: l.replace(':',\"\").replace(\",\",\"\").replace(\".\", \"\").replace(\"!\",\"\"))\\\n",
        ".map(lambda w : (w,len(w)))\\\n",
        ".reduce(lambda a, b: max(a,b, key = lambda x: x[1]))\n",
        "\n",
        "print(maxl)"
      ],
      "metadata": {
        "id": "eIoecF7ScjXK",
        "colab": {
          "base_uri": "https://localhost:8080/"
        },
        "outputId": "f5e6da53-4d33-4c27-b6fd-6d18299ab996"
      },
      "id": "eIoecF7ScjXK",
      "execution_count": null,
      "outputs": [
        {
          "output_type": "stream",
          "name": "stdout",
          "text": [
            "('nemzetiszocialista', 18)\n",
            "('nemzetiszocialista', 18)\n",
            "('nemzetiszocialista', 18)\n"
          ]
        }
      ]
    },
    {
      "cell_type": "code",
      "source": [
        "# 4. feladat: Adjuk meg kezdőbetűnként a leghosszabb szó hosszát!\n",
        "\n",
        "lines = sc.textFile('alkotmany.txt')\\\n",
        ".flatMap(lambda l: l.split(\" \"))\\\n",
        ".map(lambda l: l.replace(':',\"\").replace(\",\",\"\").replace(\".\", \"\").replace(\"!\",\"\"))\\\n",
        ".map(lambda w: (w.lower()[0], len(w)))\\\n",
        ".groupByKey()\\\n",
        ".mapValues(max)\\\n",
        ".sortBy(lambda t: t[1], False)\n",
        "\n",
        "a = lines.take(10)\n",
        "\n",
        "# Megoldás\n",
        "\n",
        "lines = sc.textFile(\"alkotmany.txt\")\\\n",
        ".flatMap(lambda l : l.split(\" \"))\\\n",
        ".map(lambda l: l.replace(':',\"\").replace(\",\",\"\").replace(\".\", \"\").replace(\"!\",\"\"))\\\n",
        ".map(lambda w: (w[0].lower(), len(w)))\\\n",
        ".reduceByKey(lambda a,b: a if a > b else b)\\\n",
        ".sortBy(lambda t: t[1], False)\n",
        "\n",
        "b = lines.take(10)\n",
        "a == b"
      ],
      "metadata": {
        "id": "I5N6FVVddeuF",
        "colab": {
          "base_uri": "https://localhost:8080/"
        },
        "outputId": "a6120a10-60cf-4d40-fa09-cc688b6c016a"
      },
      "id": "I5N6FVVddeuF",
      "execution_count": null,
      "outputs": [
        {
          "output_type": "execute_result",
          "data": {
            "text/plain": [
              "True"
            ]
          },
          "metadata": {},
          "execution_count": 33
        }
      ]
    },
    {
      "cell_type": "code",
      "source": [
        "import random\n",
        "import math\n",
        "\n",
        "num_sample = 1000\n",
        "\n",
        "def inside(p):\n",
        "  x, y = random.random(), random.random()\n",
        "  return math.sqrt(x **2 + y ** 2) <= 1\n",
        "\n",
        "count = sc.parallelize(range(0, num_sample))\\\n",
        ".filter(inside)\\\n",
        ".count()\n",
        "\n",
        "pi = 4 * (count / num_sample)\n",
        "\n",
        "print(pi)"
      ],
      "metadata": {
        "id": "auWOoS-OeCes",
        "colab": {
          "base_uri": "https://localhost:8080/"
        },
        "outputId": "37049054-e3ee-48a5-bf6a-d476d3a79df6"
      },
      "id": "auWOoS-OeCes",
      "execution_count": null,
      "outputs": [
        {
          "output_type": "stream",
          "name": "stdout",
          "text": [
            "3.172\n"
          ]
        }
      ]
    },
    {
      "cell_type": "code",
      "source": [
        "def isfloat(s:str) -> bool:\n",
        "    try:\n",
        "        float(s)\n",
        "        return True\n",
        "    except ValueError:\n",
        "        return False\n",
        "\n",
        "'''lines = sc.textFile(\"tempBudapestMeteoBlue.csv\")\\\n",
        ".flatMap(lambda l: l.split(\",\"))\\\n",
        ".filter(lambda x: isfloat(x[1]) and len(x[0]) > 10)\\\n",
        ".max(key=lambda x: float(x[1]))'''\n",
        "\n",
        "print(lines)\n",
        "\n",
        "# Megoldás\n",
        "data = sc.textFile('tempBudapestMeteoBlue.csv')\n",
        "\n",
        "data\\\n",
        ".filter(lambda l: l.startswith('20'))\\\n",
        ".map(lambda l: l.split(','))\\\n",
        ".map(lambda l: (l[0].split('T'), l[1]))\\\n",
        ".map(lambda l: (l[0][0], (l[0][1], float(l[1]))))\\\n",
        ".reduceByKey(lambda a,b: a if a[1] > b[1] else b)\\\n",
        ".collect()\n"
      ],
      "metadata": {
        "id": "wZoNNrDwyWRP",
        "colab": {
          "base_uri": "https://localhost:8080/"
        },
        "outputId": "c026750d-d35c-4886-fa26-e0b6e9f77135"
      },
      "id": "wZoNNrDwyWRP",
      "execution_count": null,
      "outputs": [
        {
          "output_type": "stream",
          "name": "stdout",
          "text": [
            "None\n"
          ]
        },
        {
          "output_type": "execute_result",
          "data": {
            "text/plain": [
              "[('20200916', ('1600', 31.431458)),\n",
              " ('20200917', ('1500', 30.111458)),\n",
              " ('20200918', ('1600', 22.861458)),\n",
              " ('20200919', ('1600', 23.311459)),\n",
              " ('20200920', ('1700', 25.321459)),\n",
              " ('20200921', ('1300', 27.171457)),\n",
              " ('20200922', ('1600', 27.831459)),\n",
              " ('20200923', ('1400', 27.131458)),\n",
              " ('20200924', ('1500', 26.421457)),\n",
              " ('20200926', ('0000', 17.621458)),\n",
              " ('20200927', ('1500', 18.401459)),\n",
              " ('20200928', ('1500', 19.731459)),\n",
              " ('20200914', ('1700', 30.651459)),\n",
              " ('20200915', ('1600', 32.06146)),\n",
              " ('20200925', ('1800', 22.981459))]"
            ]
          },
          "metadata": {},
          "execution_count": 49
        }
      ]
    },
    {
      "cell_type": "code",
      "source": [
        "#Akkumulátor\n",
        "keresendo = sc.broadcast(['MAGYAR'])\n",
        "elofordulas = sc.accumulator(0)\n",
        "\n",
        "def countWord(w):\n",
        "  if keresendo.value[0] in w.upper():\n",
        "    elofordulas.add(1)\n",
        "\n",
        "lines = sc.textFile('alkotmany.txt')\\\n",
        ".flatMap(lambda l: l.split(\" \"))\\\n",
        ".foreach(countWord)\n",
        "\n",
        "print(elofordulas)"
      ],
      "metadata": {
        "id": "UKn8kMkrzDsq",
        "colab": {
          "base_uri": "https://localhost:8080/"
        },
        "outputId": "273d5624-4af2-4665-d5de-1311ff8e8ba8"
      },
      "id": "UKn8kMkrzDsq",
      "execution_count": null,
      "outputs": [
        {
          "output_type": "stream",
          "name": "stdout",
          "text": [
            "12\n"
          ]
        }
      ]
    },
    {
      "cell_type": "code",
      "source": [
        "#Maxtemp feladat úgy, hogy megszámoljuk a 30 foknál melegebb napok számát\n",
        "hotterthan = sc.accumulator(0)\n",
        "degree = sc.broadcast([30])\n",
        "def countHot(d):\n",
        "  if degree.value[0] < d[1][1]:\n",
        "    hotterthan.add(1)\n",
        "  return d\n",
        "\n",
        "data = sc.textFile('tempBudapestMeteoBlue.csv')\n",
        "\n",
        "datas = data\\\n",
        ".filter(lambda l: l.startswith('20'))\\\n",
        ".map(lambda l: l.split(','))\\\n",
        ".map(lambda l: (l[0].split('T'), l[1]))\\\n",
        ".map(lambda l: (l[0][0], (l[0][1], float(l[1]))))\\\n",
        ".reduceByKey(lambda a,b: a if a[1] > b[1] else b)\\\n",
        ".map(lambda l: countHot(l))\\\n",
        ".collect()\n",
        "\n",
        "print(hotterthan)\n",
        "print(*datas, sep='\\n')"
      ],
      "metadata": {
        "colab": {
          "base_uri": "https://localhost:8080/"
        },
        "id": "rar0GIN57eZN",
        "outputId": "4934d7ed-c121-4aeb-fc7d-d126acefb839"
      },
      "id": "rar0GIN57eZN",
      "execution_count": null,
      "outputs": [
        {
          "output_type": "stream",
          "name": "stdout",
          "text": [
            "4\n",
            "('20200916', ('1600', 31.431458))\n",
            "('20200917', ('1500', 30.111458))\n",
            "('20200918', ('1600', 22.861458))\n",
            "('20200919', ('1600', 23.311459))\n",
            "('20200920', ('1700', 25.321459))\n",
            "('20200921', ('1300', 27.171457))\n",
            "('20200922', ('1600', 27.831459))\n",
            "('20200923', ('1400', 27.131458))\n",
            "('20200924', ('1500', 26.421457))\n",
            "('20200926', ('0000', 17.621458))\n",
            "('20200927', ('1500', 18.401459))\n",
            "('20200928', ('1500', 19.731459))\n",
            "('20200914', ('1700', 30.651459))\n",
            "('20200915', ('1600', 32.06146))\n",
            "('20200925', ('1800', 22.981459))\n"
          ]
        }
      ]
    },
    {
      "cell_type": "code",
      "source": [],
      "metadata": {
        "id": "-3WYqVAx8YNj"
      },
      "id": "-3WYqVAx8YNj",
      "execution_count": null,
      "outputs": []
    }
  ],
  "metadata": {
    "kernelspec": {
      "display_name": "Python 3 (ipykernel)",
      "language": "python",
      "name": "python3"
    },
    "language_info": {
      "codemirror_mode": {
        "name": "ipython",
        "version": 3
      },
      "file_extension": ".py",
      "mimetype": "text/x-python",
      "name": "python",
      "nbconvert_exporter": "python",
      "pygments_lexer": "ipython3",
      "version": "3.12.5"
    },
    "colab": {
      "provenance": [],
      "include_colab_link": true
    }
  },
  "nbformat": 4,
  "nbformat_minor": 5
}