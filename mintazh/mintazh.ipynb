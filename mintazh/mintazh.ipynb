{
  "nbformat": 4,
  "nbformat_minor": 0,
  "metadata": {
    "colab": {
      "provenance": []
    },
    "kernelspec": {
      "name": "python3",
      "display_name": "Python 3"
    },
    "language_info": {
      "name": "python"
    }
  },
  "cells": [
    {
      "cell_type": "markdown",
      "source": [
        "Spark RDD feladatok\n",
        "\n"
      ],
      "metadata": {
        "id": "Eu3NmakHa1-R"
      }
    },
    {
      "cell_type": "code",
      "source": [
        "from pyspark import SparkConf, SparkContext\n",
        "\n",
        "conf = SparkConf()\n",
        "sc = SparkContext.getOrCreate()\n"
      ],
      "metadata": {
        "id": "F3PWGTHPbDDo"
      },
      "execution_count": 38,
      "outputs": []
    },
    {
      "cell_type": "code",
      "source": [
        "x = \"MWűGkyösdwinko Qau fSJpDaTrykv!w\"\n",
        "\n",
        "rdd = sc.parallelize([x[i:i+2] for i in range(0, len(x), 2)])\n",
        "res = rdd.map(lambda x: x[0]).collect()\n",
        "\n",
        "print(\"\".join(res))"
      ],
      "metadata": {
        "colab": {
          "base_uri": "https://localhost:8080/"
        },
        "id": "qM2DSFMkbMv2",
        "outputId": "36d07812-f70d-4e2e-c52b-00d072c41dbd"
      },
      "execution_count": 39,
      "outputs": [
        {
          "output_type": "stream",
          "name": "stdout",
          "text": [
            "Működik a Spark!\n"
          ]
        }
      ]
    },
    {
      "cell_type": "markdown",
      "source": [
        "1. feladat (2 pont)\n",
        "A vasarlasok.txt egy kiskereskedelmi áruházban megvásárolt termékeket tartalmazzák. Minden sor\n",
        "egy vásárló kosarában lévő termékeket sorolja fel, vesszővel elválasztva. Határozd meg azt a három\n",
        "terméket, amelyekből a legtöbbet vásárolták és add meg hányat. Figyelj oda arra, hogy az\n",
        "adathalmazban kis és nagy betűk is előfordulhatnak. Azaz előfordulhat a \"rizs\" és a \"Rizs\" termék is.\n",
        "Ezeket azonos termékeknek kell tekintened.\n",
        "\n",
        "Egy lehetséges kimenet: ('kenyer', 108), ('cukor', 68), ('tej', 64)"
      ],
      "metadata": {
        "id": "QsD6VAo1bAvd"
      }
    },
    {
      "cell_type": "code",
      "source": [
        "lines = sc.textFile('vasarlasok.txt')\\\n",
        ".flatMap(lambda l: l.split(','))\\\n",
        ".map(lambda l: (l.lower(), 1))\\\n",
        ".reduceByKey(lambda a,b: a + b)\\\n",
        ".sortBy(lambda x: x[1], False)\\\n",
        ".take(3)\n",
        "\n",
        "lines"
      ],
      "metadata": {
        "colab": {
          "base_uri": "https://localhost:8080/"
        },
        "id": "CaYwYXn-a9M6",
        "outputId": "e0a78c9b-7f04-47df-9882-f7ef917791c5"
      },
      "execution_count": 55,
      "outputs": [
        {
          "output_type": "execute_result",
          "data": {
            "text/plain": [
              "[('kenyer', 108), ('cukor', 68), ('tej', 64)]"
            ]
          },
          "metadata": {},
          "execution_count": 55
        }
      ]
    },
    {
      "cell_type": "markdown",
      "source": [
        "2. feladat (2 pont)\n",
        "\n",
        "Az online_retail_data.csv egy webáruház eladásait tartalmazza. Határozd meg, hogy melyik terméket\n",
        "melyik termékkel vásárolják gyakran együtt Franciaországban („France”). Azaz melyek a leggyakrabban\n",
        "előforduló termékpárok. Add meg a párok előfordulásának a számát és a 3 legtöbbször előfordulót ad\n",
        "vissza.\n",
        "\n",
        "Egy lehetséges kimenet: [(('POSTAGE', 'RABBIT NIGHT LIGHT'), 130), (('POSTAGE', 'RED TOADSTOOL\n",
        "LED NIGHT LIGHT'), 124), (('PLASTERS IN TIN CIRCUS PARADE ', 'POSTAGE'), 116)]"
      ],
      "metadata": {
        "id": "2ke6Ybv1dY52"
      }
    },
    {
      "cell_type": "code",
      "source": [
        "# mintamegoldás\n",
        "\n",
        "retailFile = 'online_retail_data.csv'\n",
        "retailRDD = sc.textFile(retailFile)\n",
        "\n",
        "def createPairs(x):\n",
        "    pairs = []\n",
        "    for i in list(x[1]):\n",
        "        for j in list(x[1]):\n",
        "            if i<j:\n",
        "                pairs.append((i,j))\n",
        "            elif j<i:\n",
        "                pairs.append((j,i))\n",
        "    return pairs\n",
        "\n",
        "ret2 = retailRDD.filter(lambda line : not line.startswith(\"InvoiceNo\")).filter(lambda line: line.split(\",\")[-1] == \"France\")\n",
        "res = ret2.map(lambda line: (line.split(\",\")[0],line.split(\",\")[2]))\\\n",
        ".groupByKey().map(createPairs).flatMap(lambda x:x).map(lambda x: (x,1))\\\n",
        ".reduceByKey(lambda a,b: a+b).sortBy(lambda x: x[1], False).take(5)\n",
        "print(res)"
      ],
      "metadata": {
        "colab": {
          "base_uri": "https://localhost:8080/"
        },
        "id": "5SN0QotLdbrJ",
        "outputId": "853bf8b8-b70a-4d17-e366-f38e775bd4b4"
      },
      "execution_count": 58,
      "outputs": [
        {
          "output_type": "stream",
          "name": "stdout",
          "text": [
            "[(('POSTAGE', 'RABBIT NIGHT LIGHT'), 130), (('POSTAGE', 'RED TOADSTOOL LED NIGHT LIGHT'), 124), (('PLASTERS IN TIN CIRCUS PARADE ', 'POSTAGE'), 116), (('POSTAGE', 'ROUND SNACK BOXES SET OF4 WOODLAND '), 116), (('PLASTERS IN TIN WOODLAND ANIMALS', 'POSTAGE'), 108)]\n"
          ]
        }
      ]
    },
    {
      "cell_type": "markdown",
      "source": [
        "Spark DataFrame feladatok"
      ],
      "metadata": {
        "id": "FU-zg4cDVFX6"
      }
    },
    {
      "cell_type": "code",
      "source": [
        "from pyspark.sql import SparkSession\n",
        "from pyspark.sql import *\n",
        "from pyspark.sql.functions import *\n",
        "from pyspark.sql.types import StructType, StructField, StringType, IntegerType\n",
        "\n",
        "spark = SparkSession.builder.getOrCreate()"
      ],
      "metadata": {
        "id": "wtNGaPVjVPQO"
      },
      "execution_count": 1,
      "outputs": []
    },
    {
      "cell_type": "code",
      "source": [
        "menu = spark.read.format(\"csv\")\\\n",
        ".option('header', True)\\\n",
        ".option(\"inferschema\", True)\\\n",
        ".load(\"menu.csv\")\n",
        "\n",
        "category = spark.read.format(\"csv\")\\\n",
        ".option('header', True)\\\n",
        ".option(\"inferschema\", True)\\\n",
        ".load(\"menuCategory.csv\")\n",
        "\n",
        "menu.show()\n",
        "category.show()"
      ],
      "metadata": {
        "colab": {
          "base_uri": "https://localhost:8080/"
        },
        "id": "dtTBKlzwViU0",
        "outputId": "299d9185-3099-4e9a-e3af-618eb8e29740"
      },
      "execution_count": 2,
      "outputs": [
        {
          "output_type": "stream",
          "name": "stdout",
          "text": [
            "+--------+--------------------+------------+--------+-----------------+---------+-------------------------+-------------+-----------------------------+---------+-----------+---------------------------+------+----------------------+-------------+-----------------------------+-------------+-----------------------------+------+-------+-------------------------+-------------------------+-----------------------+--------------------+\n",
            "|Category|                Item|Serving Size|Calories|Calories from Fat|Total Fat|Total Fat (% Daily Value)|Saturated Fat|Saturated Fat (% Daily Value)|Trans Fat|Cholesterol|Cholesterol (% Daily Value)|Sodium|Sodium (% Daily Value)|Carbohydrates|Carbohydrates (% Daily Value)|Dietary Fiber|Dietary Fiber (% Daily Value)|Sugars|Protein|Vitamin A (% Daily Value)|Vitamin C (% Daily Value)|Calcium (% Daily Value)|Iron (% Daily Value)|\n",
            "+--------+--------------------+------------+--------+-----------------+---------+-------------------------+-------------+-----------------------------+---------+-----------+---------------------------+------+----------------------+-------------+-----------------------------+-------------+-----------------------------+------+-------+-------------------------+-------------------------+-----------------------+--------------------+\n",
            "|       1|        Egg McMuffin|         136|     300|              120|     13.0|                       20|          5.0|                           25|      0.0|        260|                         87|   750|                    31|           31|                           10|            4|                           17|     3|     17|                       10|                        0|                     25|                  15|\n",
            "|       1|   Egg White Delight|         135|     250|               70|      8.0|                       12|          3.0|                           15|      0.0|         25|                          8|   770|                    32|           30|                           10|            4|                           17|     3|     18|                        6|                        0|                     25|                   8|\n",
            "|       1|    Sausage McMuffin|         111|     370|              200|     23.0|                       35|          8.0|                           42|      0.0|         45|                         15|   780|                    33|           29|                           10|            4|                           17|     2|     14|                        8|                        0|                     25|                  10|\n",
            "|       1|Sausage McMuffin ...|         161|     450|              250|     28.0|                       43|         10.0|                           52|      0.0|        285|                         95|   860|                    36|           30|                           10|            4|                           17|     2|     21|                       15|                        0|                     30|                  15|\n",
            "|       1|Sausage McMuffin ...|         161|     400|              210|     23.0|                       35|          8.0|                           42|      0.0|         50|                         16|   880|                    37|           30|                           10|            4|                           17|     2|     21|                        6|                        0|                     25|                  10|\n",
            "|       1|Steak & Egg McMuffin|         185|     430|              210|     23.0|                       36|          9.0|                           46|      1.0|        300|                        100|   960|                    40|           31|                           10|            4|                           18|     3|     26|                       15|                        2|                     30|                  20|\n",
            "|       1|Bacon, Egg & Chee...|         150|     460|              230|     26.0|                       40|         13.0|                           65|      0.0|        250|                         83|  1300|                    54|           38|                           13|            2|                            7|     3|     19|                       10|                        8|                     15|                  15|\n",
            "|       1|Bacon, Egg & Chee...|         164|     520|              270|     30.0|                       47|         14.0|                           68|      0.0|        250|                         83|  1410|                    59|           43|                           14|            3|                           12|     4|     19|                       15|                        8|                     20|                  20|\n",
            "|       1|Bacon, Egg & Chee...|         153|     410|              180|     20.0|                       32|         11.0|                           56|      0.0|         35|                         11|  1300|                    54|           36|                           12|            2|                            7|     3|     20|                        2|                        8|                     15|                  10|\n",
            "|       1|Bacon, Egg & Chee...|         167|     470|              220|     25.0|                       38|         12.0|                           59|      0.0|         35|                         11|  1420|                    59|           42|                           14|            3|                           12|     4|     20|                        6|                        8|                     15|                  15|\n",
            "|       1|Sausage Biscuit (...|         117|     430|              240|     27.0|                       42|         12.0|                           62|      0.0|         30|                         10|  1080|                    45|           34|                           11|            2|                            6|     2|     11|                        0|                        0|                      6|                  15|\n",
            "|       1|Sausage Biscuit (...|         131|     480|              280|     31.0|                       48|         13.0|                           65|      0.0|         30|                         10|  1190|                    50|           39|                           13|            3|                           11|     3|     11|                        4|                        0|                      8|                  15|\n",
            "|       1|Sausage Biscuit w...|         163|     510|              290|     33.0|                       50|         14.0|                           71|      0.0|        250|                         83|  1170|                    49|           36|                           12|            2|                            6|     2|     18|                        6|                        0|                     10|                  20|\n",
            "|       1|Sausage Biscuit w...|         177|     570|              330|     37.0|                       57|         15.0|                           74|      0.0|        250|                         83|  1280|                    53|           42|                           14|            3|                           11|     3|     18|                       10|                        0|                     10|                  20|\n",
            "|       1|Sausage Biscuit w...|         167|     460|              250|     27.0|                       42|         12.0|                           62|      0.0|         35|                         11|  1180|                    49|           34|                           11|            2|                            6|     3|     18|                        0|                        0|                      8|                  15|\n",
            "|       1|Sausage Biscuit w...|         181|     520|              280|     32.0|                       49|         13.0|                           65|      0.0|         35|                         11|  1290|                    54|           40|                           13|            3|                           11|     3|     18|                        4|                        0|                      8|                  15|\n",
            "|       1|Southern Style Ch...|         143|     410|              180|     20.0|                       31|          8.0|                           41|      0.0|         30|                         10|  1180|                    49|           41|                           14|            2|                            6|     3|     17|                        0|                        2|                      6|                  15|\n",
            "|       1|Southern Style Ch...|         157|     470|              220|     24.0|                       37|          9.0|                           45|      0.0|         30|                         10|  1290|                    54|           46|                           15|            3|                           11|     4|     17|                        4|                        2|                      8|                  15|\n",
            "|       1|Steak & Egg Biscu...|         201|     540|              290|     32.0|                       49|         16.0|                           78|      1.0|        280|                         93|  1470|                    61|           38|                           13|            2|                            8|     3|     25|                       10|                        2|                     20|                  25|\n",
            "|       1|Bacon, Egg & Chee...|         174|     460|              190|     21.0|                       32|          9.0|                           44|      0.0|        250|                         84|  1250|                    52|           48|                           16|            2|                            9|    15|     19|                       10|                       10|                     20|                  15|\n",
            "+--------+--------------------+------------+--------+-----------------+---------+-------------------------+-------------+-----------------------------+---------+-----------+---------------------------+------+----------------------+-------------+-----------------------------+-------------+-----------------------------+------+-------+-------------------------+-------------------------+-----------------------+--------------------+\n",
            "only showing top 20 rows\n",
            "\n",
            "+---+------------------+\n",
            "| Id|              Name|\n",
            "+---+------------------+\n",
            "|  1|         Breakfast|\n",
            "|  2|       Beef & Pork|\n",
            "|  3|    Chicken & Fish|\n",
            "|  4|            Salads|\n",
            "|  5|    Snacks & Sides|\n",
            "|  6|          Desserts|\n",
            "|  7|         Beverages|\n",
            "|  8|      Coffee & Tea|\n",
            "|  9|Smoothies & Shakes|\n",
            "+---+------------------+\n",
            "\n"
          ]
        }
      ]
    },
    {
      "cell_type": "markdown",
      "source": [
        "3. feladat (1 pont)\n",
        "Melyek azok az ételek, amelyek meghaladják az ajánlott napi zsír bevitelt? (Total Fat (% Daily Value))\n",
        "\n",
        "Elvárt oszlopok: [Item]"
      ],
      "metadata": {
        "id": "LjV5QcpFVHQP"
      }
    },
    {
      "cell_type": "code",
      "source": [
        "from pyspark.sql.functions import col\n",
        "menu.where(col(\"Total Fat (% Daily Value)\") > 100)\\\n",
        ".select(\"Item\")\\\n",
        ".show()"
      ],
      "metadata": {
        "colab": {
          "base_uri": "https://localhost:8080/"
        },
        "id": "O64Hwz-gWKWF",
        "outputId": "022cb9e1-8cde-4e3b-8e04-04409d01fcaa"
      },
      "execution_count": 7,
      "outputs": [
        {
          "output_type": "stream",
          "name": "stdout",
          "text": [
            "+--------------------+\n",
            "|                Item|\n",
            "+--------------------+\n",
            "|Chicken McNuggets...|\n",
            "+--------------------+\n",
            "\n"
          ]
        }
      ]
    },
    {
      "cell_type": "markdown",
      "source": [
        "4. feladat (1 pont)\n",
        "Melyik ételnek van a maximális Sugars értéke?\n",
        "\n",
        "Elvárt oszlopok: [Item, Sugars]"
      ],
      "metadata": {
        "id": "Fz-dYPidWwNe"
      }
    },
    {
      "cell_type": "code",
      "source": [
        "menu.select(\"Item\", \"Sugars\")\\\n",
        ".orderBy(col(\"Sugars\").desc())\\\n",
        ".limit(1)\\\n",
        ".show()"
      ],
      "metadata": {
        "colab": {
          "base_uri": "https://localhost:8080/"
        },
        "id": "fd3GtNLMW619",
        "outputId": "71bc62bd-e09e-4a11-9d0a-63bc76aff338"
      },
      "execution_count": 12,
      "outputs": [
        {
          "output_type": "stream",
          "name": "stdout",
          "text": [
            "+--------------------+------+\n",
            "|                Item|Sugars|\n",
            "+--------------------+------+\n",
            "|McFlurry with M&M...|   128|\n",
            "+--------------------+------+\n",
            "\n"
          ]
        }
      ]
    },
    {
      "cell_type": "markdown",
      "source": [
        "5. feladat (1 pont)\n",
        "Hány elem van kategóriánként? Rendezzük csökkenő sorrendbe és adjuk meg a kategóriák nevét is.\n",
        "\n",
        "Elvárt oszlopok: [Name, Cnt]"
      ],
      "metadata": {
        "id": "5jLUD8z-YJRv"
      }
    },
    {
      "cell_type": "code",
      "source": [
        "menu.alias(\"M\")\\\n",
        ".groupBy(col(\"Category\"))\\\n",
        ".agg(count(col(\"*\")).alias(\"Cnt\"))\\\n",
        ".join(category.alias(\"C\"), col(\"C.ID\") == col(\"M.Category\"), \"inner\")\\\n",
        ".select(\"Name\",\"Cnt\")\\\n",
        ".orderBy(col(\"Cnt\").desc())\\\n",
        ".show(9)"
      ],
      "metadata": {
        "colab": {
          "base_uri": "https://localhost:8080/"
        },
        "id": "qVy4Za3cYL8P",
        "outputId": "ff2f3b91-d8d1-4dff-8b64-3c2d360cd1d1"
      },
      "execution_count": 21,
      "outputs": [
        {
          "output_type": "stream",
          "name": "stdout",
          "text": [
            "+------------------+---+\n",
            "|              Name|Cnt|\n",
            "+------------------+---+\n",
            "|      Coffee & Tea| 95|\n",
            "|         Breakfast| 42|\n",
            "|Smoothies & Shakes| 28|\n",
            "|    Chicken & Fish| 27|\n",
            "|         Beverages| 27|\n",
            "|       Beef & Pork| 15|\n",
            "|    Snacks & Sides| 13|\n",
            "|          Desserts|  7|\n",
            "|            Salads|  6|\n",
            "+------------------+---+\n",
            "\n"
          ]
        }
      ]
    },
    {
      "cell_type": "markdown",
      "source": [
        "6. feladat (1 pont)\n",
        "Átlagosan mennyi kalóriát tartalmaznak az egyes kategóriák? Adjuk meg a kategória nevét és\n",
        "rendezzük átlag alapján csökkenő sorrendbe. A 'Coffee and Tea' és a 'Beverages' kategóriákat ne\n",
        "vegyük figyelembe."
      ],
      "metadata": {
        "id": "E0fxZ_nJZa9_"
      }
    },
    {
      "cell_type": "code",
      "source": [
        "menu.alias(\"M\")\\\n",
        ".groupBy(col(\"Category\"))\\\n",
        ".agg(avg(col(\"Calories\")).alias(\"avgCal\"))\\\n",
        ".join(category.where((col(\"Name\") != \"Coffee & Tea\") & (col(\"Name\") != \"Beverages\")).alias(\"C\"), col(\"C.ID\") == col(\"M.Category\"), \"inner\")\\\n",
        ".select(\"Name\",\"avgCal\")\\\n",
        ".orderBy(col(\"avgCal\").desc())\\\n",
        ".show(9)"
      ],
      "metadata": {
        "colab": {
          "base_uri": "https://localhost:8080/"
        },
        "id": "QVo6MLdcZe9-",
        "outputId": "e3f8d169-0939-456e-b03a-218d4caa5b13"
      },
      "execution_count": 32,
      "outputs": [
        {
          "output_type": "stream",
          "name": "stdout",
          "text": [
            "+------------------+------------------+\n",
            "|              Name|               avg|\n",
            "+------------------+------------------+\n",
            "|    Chicken & Fish| 552.9629629629629|\n",
            "|Smoothies & Shakes| 531.4285714285714|\n",
            "|         Breakfast| 526.6666666666666|\n",
            "|       Beef & Pork|             494.0|\n",
            "|            Salads|             270.0|\n",
            "|    Snacks & Sides|245.76923076923077|\n",
            "|          Desserts|222.14285714285714|\n",
            "+------------------+------------------+\n",
            "\n"
          ]
        }
      ]
    }
  ]
}