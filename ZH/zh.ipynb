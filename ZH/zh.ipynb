{
  "nbformat": 4,
  "nbformat_minor": 0,
  "metadata": {
    "colab": {
      "provenance": []
    },
    "kernelspec": {
      "name": "python3",
      "display_name": "Python 3"
    },
    "language_info": {
      "name": "python"
    }
  },
  "cells": [
    {
      "cell_type": "markdown",
      "source": [
        "ZH\n"
      ],
      "metadata": {
        "id": "qEK7FGwUFI0A"
      }
    },
    {
      "cell_type": "markdown",
      "source": [
        "Spark RDD feladatok"
      ],
      "metadata": {
        "id": "bImh_ucmFdvR"
      }
    },
    {
      "cell_type": "code",
      "source": [
        "from pyspark import SparkConf, SparkContext\n",
        "\n",
        "conf = SparkConf()\n",
        "sc = SparkContext.getOrCreate()"
      ],
      "metadata": {
        "id": "9V3QHeTYFLal"
      },
      "execution_count": 94,
      "outputs": []
    },
    {
      "cell_type": "code",
      "source": [
        "x = \"MWűGkyösdwinko Qau fSJpDaTrykv!w\"\n",
        "\n",
        "rdd = sc.parallelize([x[i:i+2] for i in range(0, len(x), 2)])\n",
        "res = rdd.map(lambda x: x[0]).collect()\n",
        "\n",
        "print(\"\".join(res))"
      ],
      "metadata": {
        "colab": {
          "base_uri": "https://localhost:8080/"
        },
        "id": "XJDw_3OoFikz",
        "outputId": "0182a44b-ce5b-4d99-eac3-e2fc46c9e1f6"
      },
      "execution_count": 95,
      "outputs": [
        {
          "output_type": "stream",
          "name": "stdout",
          "text": [
            "Működik a Spark!\n"
          ]
        }
      ]
    },
    {
      "cell_type": "markdown",
      "source": [
        "Feladat 1. (2 pont)\n",
        "\n",
        "A weboldalak.txt weboldalakat és azok szöveges tartalmát tartalmazza. Minden sor egy weboldal\n",
        "címével kezdődik, aztán pedig a tartalma következik. A felhasználónk az \"ELTE\" kifejezésre keres rá,\n",
        "nekünk pedig vissza kell adnunk számára a legrelevánsabb találatot. Határozod meg, hogy a\n",
        "weboldalak.txt-ben található weboldalak közül melyikben szerepel legtöbbször a keresett kifejezés.\n",
        "Csak azokat a weboldalakat vedd figyelembe, amelyek tartalma több, mint 10 szóból áll.\n",
        "A programod írja ki azt a weboldalt, amelyekikben a legtöbbször szerepel a keresett kifejezés. Add\n",
        "meg továbbá a keresett kifejezés előfordulásainak a számát és a weboldal tartalmában lévő szavak\n",
        "számát is.\n",
        "Egy lehetséges kimenet: ('wikipedia.hu', 10, 99), amelynek jelentése, hogy a wikipedia.hu weboldal\n",
        "tartalmában a keresett kifejezés 10-szer szerepel és összesen 99 szóból áll.\n",
        "\n"
      ],
      "metadata": {
        "id": "s2M7TgdVFsHB"
      }
    },
    {
      "cell_type": "code",
      "source": [
        "data = sc.textFile('weboldalak.txt')\\\n",
        ".map(lambda l: l.upper())\\\n",
        ".map(lambda l: (l.split()[0], l[l.index(l.split()[0])+len(l.split()[0]):].count('ELTE'), len(l.split())-1))\\\n",
        ".filter(lambda x: x[2] > 10)\\\n",
        ".max(key= lambda x: x[1])\\\n",
        "\n",
        "data"
      ],
      "metadata": {
        "colab": {
          "base_uri": "https://localhost:8080/"
        },
        "id": "JagEsKdWFug2",
        "outputId": "b078ce18-049c-4f88-fd08-29df3ff6c851"
      },
      "execution_count": 79,
      "outputs": [
        {
          "output_type": "execute_result",
          "data": {
            "text/plain": [
              "('ELTE.HU', 6, 52)"
            ]
          },
          "metadata": {},
          "execution_count": 79
        }
      ]
    },
    {
      "cell_type": "markdown",
      "source": [
        "Feladat 2. (2 pont)\n",
        "\n",
        "A sentiment_input.txt minden sora egy-egy szöveges értékelése a Tenet című filmnek (forrás:\n",
        "imdb.com). A feladat célja megszámolni, hány darab jó, rossz és semleges értékelés található a\n",
        "fájlban.\n",
        "• Egy értékelés akkor jó, ha a szövegben több pozitív szó található, mint negatív.\n",
        "• Egy értékelés akkor rossz, ha több a negatív szó, mint a pozitív.\n",
        "• Egy értékelés akkor semleges, ha a pozitív és negatív szavak száma megegyezik.\n",
        "A pozitív és negatív szavak listája:\n",
        "• Pozitív szavak: awesome, great, masterpiece, enjoyable\n",
        "• Negatív szavak: worst, bad, boring, loud\n",
        "Egy lehetséges kimenet: ('good', 10), ('bad', 9), ('neutral', 4). A bemeneti fájlban 23 sor (azaz\n",
        "értékelés) található, ezért a pozitív, negatív és semleges értékelések összegének 23-at kell adnia."
      ],
      "metadata": {
        "id": "o7w9nepOJbtN"
      }
    },
    {
      "cell_type": "code",
      "source": [
        "\n",
        "positive = ['awesome', 'great', 'masterpiece', 'enjoyable']\n",
        "negative = ['worst', 'bad', 'boring', 'loud']\n",
        "\n",
        "def grade(inp):\n",
        "  goodw = [1 for w in inp.split() if w in positive]\n",
        "  badw = [1 for w in inp.split() if w in negative]\n",
        "\n",
        "\n",
        "  if goodw > badw:\n",
        "    return \"good\"\n",
        "  elif badw > goodw:\n",
        "    return \"bad\"\n",
        "  else:\n",
        "    return \"neutral\"\n",
        "\n",
        "\n",
        "\n",
        "data = sc.textFile('sentiment_input.txt')\\\n",
        ".map(lambda l: l.replace(':',\"\").replace(\",\",\"\").replace(\".\", \"\").replace(\"!\",\"\").replace('\"',\"\").lower())\\\n",
        ".map(lambda l: grade(l))\\\n",
        ".countByValue()\n",
        "\n",
        "print(f\"(good, {data['good']}), (bad, {data['bad']}), (neutral, {data['neutral']})\")"
      ],
      "metadata": {
        "colab": {
          "base_uri": "https://localhost:8080/"
        },
        "id": "jTbIEJ8bJdos",
        "outputId": "57fda715-c64f-4fb9-d72f-cff2d9909084"
      },
      "execution_count": 99,
      "outputs": [
        {
          "output_type": "stream",
          "name": "stdout",
          "text": [
            "(good, 7), (bad, 5), (neutral, 11)\n"
          ]
        }
      ]
    },
    {
      "cell_type": "markdown",
      "source": [
        "Dataframe feladatok\n",
        "\n",
        "Az alábbi 4 feladat megoldásához a canvason található books.csv és orders.csv fájlokat kell beolvasni.\n",
        "A fájlok egy könyveket árusító webshop adatait tartalmazza (forrás: kaggle.com). A books.csv minden\n",
        "sora egy könyv adatait tartalmazza, az orders.csv minden sora pedig egy adott vásárlási folyamat egy\n",
        "adott könyvhöz tartozó interakcióit adja meg (kattintások száma, kosárba helyezett darabszám,\n",
        "megvásárolt darabszám).\n",
        "\n",
        "books.csv oszlopai:\n",
        "• rowID – a sor egyedi azonosítója\n",
        "• itemID – egy könyv egyedi azonosítója\n",
        "• title – a könyv címe\n",
        "• author – a könyv szerzője\n",
        "• pupblisher – a könyv kiadója\n",
        "\n",
        "orders.csv oszlopai\n",
        "• rowID – a sor egyedi azonosítója\n",
        "• sessionID – egy vásárlási folyamat azonosítója\n",
        "• itemID – egy könyv egyedi azonosítója\n",
        "• click – a könyv oldalára történő kattintások száma a vásárlási folyamat során\n",
        "• basket – az adott könyv kosárba helyezett darabszáma a vásárlási folyamat során\n",
        "• order – az adott könyvből megrendelt darabszám a vásárlási folyamat során\n",
        "\n"
      ],
      "metadata": {
        "id": "-xi4elzmOqJG"
      }
    },
    {
      "cell_type": "code",
      "source": [
        "from pyspark.sql import SparkSession\n",
        "from pyspark.sql import *\n",
        "from pyspark.sql.functions import *\n",
        "from pyspark.sql.types import StructType, StructField, StringType, IntegerType\n",
        "\n",
        "spark = SparkSession.builder.getOrCreate()"
      ],
      "metadata": {
        "id": "bM7fKs8gOs7T"
      },
      "execution_count": 43,
      "outputs": []
    },
    {
      "cell_type": "code",
      "source": [
        "books = spark.read.format(\"csv\")\\\n",
        ".option('header', True)\\\n",
        ".option(\"inferschema\", True)\\\n",
        ".load(\"books.csv\")\n",
        "\n",
        "orders = spark.read.format(\"csv\")\\\n",
        ".option('header', True)\\\n",
        ".option(\"inferschema\", True)\\\n",
        ".load(\"orders.csv\")\n",
        "\n",
        "books.show()\n",
        "orders.show()"
      ],
      "metadata": {
        "colab": {
          "base_uri": "https://localhost:8080/"
        },
        "id": "Kp6hYy03Ox5b",
        "outputId": "242f1802-d919-4402-cb97-0640608deae8"
      },
      "execution_count": 45,
      "outputs": [
        {
          "output_type": "stream",
          "name": "stdout",
          "text": [
            "+-----+------+--------------------+------------------+--------------------+\n",
            "|rowID|itemID|               title|            author|           publisher|\n",
            "+-----+------+--------------------+------------------+--------------------+\n",
            "|    0| 21310|Princess Poppy: T...|Janey Louise Jones|Penguin Random Ho...|\n",
            "|    1| 73018|Einfach zeichnen!...|     Wiebke Krabbe|Schwager und Stei...|\n",
            "|    2| 19194|         Red Queen 1|  Victoria Aveyard|Orion Publishing ...|\n",
            "|    3| 40250|Meine Kindergarte...|              NULL|    Ars Edition GmbH|\n",
            "|    4| 46107|Mein großes Schab...| Elizabeth Golding|Edition Michael F...|\n",
            "|    5| 34217|        Ewig geliebt|        J. R. Ward|   Heyne Taschenbuch|\n",
            "|    6| 31436| Meine Sticker-Tiere|              NULL|    Ars Edition GmbH|\n",
            "|    7| 14576|Unsterblich 01 - ...|      Julie Kagawa|   Heyne Taschenbuch|\n",
            "|    8| 17731|Unsterblich 02 - ...|      Julie Kagawa|   Heyne Taschenbuch|\n",
            "|    9| 58723|Pedro und die Bet...|     Ursula Hasler|dtv Verlagsgesell...|\n",
            "|   10| 73124|Freundebuch - Ein...|              NULL|        Coppenrath F|\n",
            "|   11| 33976|     Die Haushörerin|     Anna Lummfeld|     Books on Demand|\n",
            "|   12|  2408|Reiter der schwar...|       Swen Harder|    Mantikore Verlag|\n",
            "|   13| 30277|WAS IST WAS Quiz ...|    Lorena Lehnert|     Tessloff Verlag|\n",
            "|   14| 29508|WAS IST WAS Quiz ...|  Carolin Langbein|     Tessloff Verlag|\n",
            "|   15| 75659|WAS IST WAS Quiz ...|    Lorena Lehnert|     Tessloff Verlag|\n",
            "|   16| 55699|Spring in eine Pf...|    ViktoriaSarina|CE Community Edit...|\n",
            "|   17| 62433|   Und dann kamst du|       Heike Abidi|Oetinger Taschenb...|\n",
            "|   18| 72603|Ich hab einen Fre...|    Ralf Butschkow| Carlsen Verlag GmbH|\n",
            "|   19| 11989|  Vampire Academy 06|     Richelle Mead|                 LYX|\n",
            "+-----+------+--------------------+------------------+--------------------+\n",
            "only showing top 20 rows\n",
            "\n",
            "+-----+---------+------+-----+------+-----+\n",
            "|rowID|sessionID|itemID|click|basket|order|\n",
            "+-----+---------+------+-----+------+-----+\n",
            "|    0|        0| 21310|    1|     0|    0|\n",
            "|    1|        1| 73018|    1|     0|    0|\n",
            "|    2|        2| 19194|    1|     0|    0|\n",
            "|    3|        3| 40250|    1|     0|    0|\n",
            "|    4|        4| 46107|    1|     0|    0|\n",
            "|    5|        5| 34217|    1|     0|    0|\n",
            "|    6|        6| 31436|    1|     0|    0|\n",
            "|    7|        7| 14576|    1|     1|    0|\n",
            "|    8|        7| 17731|    2|     1|    0|\n",
            "|    9|        8| 58723|    1|     0|    0|\n",
            "|   10|        9| 73124|    1|     0|    0|\n",
            "|   11|       10| 33976|    1|     0|    0|\n",
            "|   12|       11|  2408|    2|     0|    0|\n",
            "|   13|       12| 30277|    1|     0|    0|\n",
            "|   14|       12| 29508|    1|     1|    0|\n",
            "|   15|       12| 75659|    1|     0|    0|\n",
            "|   16|       13| 55699|    2|     0|    0|\n",
            "|   17|       13| 62433|    1|     0|    0|\n",
            "|   18|       13| 72603|    1|     0|    0|\n",
            "|   19|       14| 11989|    1|     0|    0|\n",
            "+-----+---------+------+-----+------+-----+\n",
            "only showing top 20 rows\n",
            "\n"
          ]
        }
      ]
    },
    {
      "cell_type": "markdown",
      "source": [
        "Feladat 3. (1 pont)\n",
        "Add meg azt a kiadót, amely a legtöbb könyvet kiadta.\n",
        "Elvárt kimenet: kiadó név."
      ],
      "metadata": {
        "id": "FBxnBODtPJT9"
      }
    },
    {
      "cell_type": "code",
      "source": [
        "from pyspark.sql.functions import col\n",
        "\n",
        "books\\\n",
        ".groupBy(col(\"publisher\"))\\\n",
        ".agg(countDistinct(col(\"title\")).alias(\"Cnt\"))\\\n",
        ".orderBy(col(\"Cnt\").desc())\\\n",
        ".limit(1)\\\n",
        ".select(\"publisher\")\\\n",
        ".show()"
      ],
      "metadata": {
        "colab": {
          "base_uri": "https://localhost:8080/"
        },
        "id": "6KsEMTfuPIY3",
        "outputId": "60413ce7-6270-4c22-e235-9878c02723e6"
      },
      "execution_count": 87,
      "outputs": [
        {
          "output_type": "stream",
          "name": "stdout",
          "text": [
            "+---------------+\n",
            "|      publisher|\n",
            "+---------------+\n",
            "|Books on Demand|\n",
            "+---------------+\n",
            "\n"
          ]
        }
      ]
    },
    {
      "cell_type": "markdown",
      "source": [
        "Feladat 4. (1 pont)\n",
        "A vásárlással végződő folyamatok során átlagosan hány darab könyvet vásároltak?\n",
        "Elvárt kimenet: egy valós szám."
      ],
      "metadata": {
        "id": "KNQjqT66QDwv"
      }
    },
    {
      "cell_type": "code",
      "source": [
        "from pyspark.sql.functions import sum\n",
        "orders\\\n",
        ".groupBy(col(\"sessionID\"))\\\n",
        ".agg(sum(col(\"order\")).alias(\"ocnt\"))\\\n",
        ".where(col(\"ocnt\") > 0)\\\n",
        ".agg(avg(col(\"ocnt\")))\\\n",
        ".show()"
      ],
      "metadata": {
        "colab": {
          "base_uri": "https://localhost:8080/"
        },
        "id": "MUf_qGKYQXYA",
        "outputId": "3ee4daf4-ffaa-4acf-f6e6-6704818a84b7"
      },
      "execution_count": 89,
      "outputs": [
        {
          "output_type": "stream",
          "name": "stdout",
          "text": [
            "+----------------+\n",
            "|       avg(ocnt)|\n",
            "+----------------+\n",
            "|1.33439033597584|\n",
            "+----------------+\n",
            "\n"
          ]
        }
      ]
    },
    {
      "cell_type": "markdown",
      "source": [
        "Feladat 5. (1 pont)\n",
        "Azon vásárlások közül, ahol a felhasználó már a kosárba helyezte a terméket, hány esetben vette meg\n",
        "a kosárba helyezett termékeket és hány esetben nem? Add meg az esetek számát!\n",
        "Elvárt kimenet: két szám (hány esetben vették meg a termékeket és hány esetben nem)."
      ],
      "metadata": {
        "id": "e3DguITuR8fN"
      }
    },
    {
      "cell_type": "code",
      "source": [
        "#all = orders.where(col(\"basket\") > 0).count()\n",
        "\n",
        "bought = orders\\\n",
        ".where((col(\"order\") == col(\"basket\")) & (col(\"basket\") > 0))\\\n",
        ".count()\n",
        "\n",
        "not_bought = orders\\\n",
        ".where((col(\"order\") != col(\"basket\")) & (col(\"basket\") > 0))\\\n",
        ".count()\n",
        "\n",
        "#print(bought + not_bought == all)\n",
        "bought, not_bought"
      ],
      "metadata": {
        "colab": {
          "base_uri": "https://localhost:8080/"
        },
        "id": "PJfYl-nrQKF4",
        "outputId": "fe2c64b5-3f76-4593-c213-8abc81a40de1"
      },
      "execution_count": 90,
      "outputs": [
        {
          "output_type": "execute_result",
          "data": {
            "text/plain": [
              "(4069, 40919)"
            ]
          },
          "metadata": {},
          "execution_count": 90
        }
      ]
    },
    {
      "cell_type": "markdown",
      "source": [
        "Feladat 6. (1 pont)\n",
        "Melyik könyvre kattintottak a legtöbbször? Add meg a könyv címét és a kattintások számát!\n",
        "Elvárt kimenet: egy könyv címe és a kattintások száma."
      ],
      "metadata": {
        "id": "mBznEV46TAmU"
      }
    },
    {
      "cell_type": "code",
      "source": [
        "from pyspark.sql.functions import sum\n",
        "orders.alias(\"O\")\\\n",
        ".groupBy(col(\"itemID\"))\\\n",
        ".agg(sum(col(\"click\")).alias(\"sumc\"))\\\n",
        ".join(books.alias(\"B\"), col(\"O.itemID\") == col(\"B.itemID\"), \"inner\")\\\n",
        ".select(\"title\",\"sumc\")\\\n",
        ".orderBy(col(\"sumc\").desc())\\\n",
        ".limit(1)\\\n",
        ".show()"
      ],
      "metadata": {
        "colab": {
          "base_uri": "https://localhost:8080/"
        },
        "id": "K9TO3TnHTC0Z",
        "outputId": "2761cd83-ad1a-4df8-88dd-6cb82025a004"
      },
      "execution_count": 78,
      "outputs": [
        {
          "output_type": "stream",
          "name": "stdout",
          "text": [
            "+--------------------+----+\n",
            "|               title|sumc|\n",
            "+--------------------+----+\n",
            "|Harry Potter Box ...|3229|\n",
            "+--------------------+----+\n",
            "\n"
          ]
        }
      ]
    }
  ]
}